{
 "cells": [
  {
   "cell_type": "code",
   "execution_count": 206,
   "metadata": {},
   "outputs": [],
   "source": [
    "from bs4 import BeautifulSoup\n",
    "import requests\n",
    "import lxml\n",
    "import pandas as pd\n",
    "import numpy as np\n",
    "from  tqdm import tqdm\n",
    "import time\n",
    "from datetime import datetime"
   ]
  },
  {
   "cell_type": "markdown",
   "metadata": {},
   "source": [
    "# paper document extraction"
   ]
  },
  {
   "cell_type": "markdown",
   "metadata": {},
   "source": [
    "# per subcommittee extraction"
   ]
  },
  {
   "cell_type": "code",
   "execution_count": 207,
   "metadata": {},
   "outputs": [],
   "source": [
    "def url_subcom_table_paper(url):\n",
    "    table_1=first_layer_extract(url)\n",
    "    #print(table_1)\n",
    "    final=[]\n",
    "    for i in range(len(table_1['url'])):\n",
    "        url=table_1['url'][i]\n",
    "        time.sleep(0.5)\n",
    "        final.append(URL_to_second_table(url))\n",
    "    table_list=combine_table(table_1,final)\n",
    "    return (pd.concat(table_list))"
   ]
  },
  {
   "cell_type": "markdown",
   "metadata": {},
   "source": [
    "# first layer extraction"
   ]
  },
  {
   "cell_type": "code",
   "execution_count": 208,
   "metadata": {},
   "outputs": [],
   "source": [
    "def tab_generate(back,url):\n",
    "    link_split=url.split('/')\n",
    "    back_split=back.split('_')[0]\n",
    "    #print(len(link_split))\n",
    "    desired=link_split[0]+'//'+link_split[2]+'/'+link_split[3]+'/'+link_split[4]+'/'+link_split[5]+'/'+back_split+'/'+link_split[7]+'/'+back\n",
    "    return desired"
   ]
  },
  {
   "cell_type": "code",
   "execution_count": 209,
   "metadata": {},
   "outputs": [],
   "source": [
    "def first_table_transform(x):\n",
    "    list=[]\n",
    "    for i in range(len(x)):\n",
    "        if x[i].find_all(\"td\")[2].find('a')!=None:\n",
    "            cell0=x[i].find_all(\"td\")[2].find('a').text\n",
    "            cell01=tab_generate(x[i].find_all(\"td\")[2].find('a').get(\"href\"),url)\n",
    "            #cell01=x[i].find_all(\"td\")[2].find('a').get(\"href\")\n",
    "        else:\n",
    "            cell0=x[i].find_all(\"td\")[2].text\n",
    "            cell01=''\n",
    "        list.append([cell0,cell01])\n",
    "    return(pd.DataFrame(list,columns=['paper_name','url']))"
   ]
  },
  {
   "cell_type": "code",
   "execution_count": 210,
   "metadata": {},
   "outputs": [],
   "source": [
    "def first_layer_extract(url):\n",
    "    response=requests.get(url,verify=False).text\n",
    "    soup=BeautifulSoup(response)\n",
    "    table_soup=soup.find(\"table\")\n",
    "    new_source=table_soup.find_all(\"tr\")[1:len(table_soup.find_all('tr'))]\n",
    "    return first_table_transform(new_source)"
   ]
  },
  {
   "cell_type": "code",
   "execution_count": 211,
   "metadata": {},
   "outputs": [],
   "source": [
    "# repeat the first two columns for combine\n",
    "def combine_table(first_layer,second_layer):\n",
    "    table_list=[]\n",
    "    for i in range(len(second_layer)):\n",
    "        repeat=[]\n",
    "        for j in range(len(second_layer[i][0])):\n",
    "            repeat.append(first_layer.loc[i].to_list())\n",
    "        table_list.append(pd.concat([pd.DataFrame(repeat),second_layer[i][0]],axis=1).rename(columns={0:'paper_name',1:'paper_url'}))\n",
    "    return table_list"
   ]
  },
  {
   "cell_type": "markdown",
   "metadata": {},
   "source": [
    "# second layer extraction"
   ]
  },
  {
   "cell_type": "code",
   "execution_count": 212,
   "metadata": {},
   "outputs": [],
   "source": [
    "#define function for table \n",
    "def URL_to_second_table(y):\n",
    "    url=y\n",
    "    result=requests.get(url,verify=False)\n",
    "    result.encoding = 'utf-8'\n",
    "    response = result.text \n",
    "    soup=BeautifulSoup(response)\n",
    "    table_soup=soup.find_all(\"table\",attrs={\"class\":\"interlaced\"})\n",
    "    list_dataframe=[]\n",
    "    for i in range(len(table_soup)):\n",
    "        if empty_or_not(table_soup[i].find_all(\"tr\")):list_dataframe.append(empty_table())\n",
    "        else:\n",
    "            old_source=remove_duplicate(table_soup[i].find_all(\"tr\"))\n",
    "            list_dataframe.append(table_transform(old_source))\n",
    "    return list_dataframe"
   ]
  },
  {
   "cell_type": "code",
   "execution_count": 213,
   "metadata": {},
   "outputs": [],
   "source": [
    "#define date_list function\n",
    "def date_list(x):\n",
    "    date_list_1=[]\n",
    "    if (len(x))==1:\n",
    "        date_list_1.append(x.text)\n",
    "        return date_list_1\n",
    "    else:\n",
    "        for i in range(len(x.find_all('br'))):\n",
    "            date_list_1.append(x.find_all('br')[i].previous_element)\n",
    "        date_list_1.append(x.find_all('br')[-1].next_element)\n",
    "        return date_list_1"
   ]
  },
  {
   "cell_type": "code",
   "execution_count": 214,
   "metadata": {},
   "outputs": [],
   "source": [
    "#define function for checking '*'\n",
    "def check_for_star(x):\n",
    "    for i in range(len(x)):\n",
    "        if '*'in x[i]: return True"
   ]
  },
  {
   "cell_type": "code",
   "execution_count": 215,
   "metadata": {},
   "outputs": [],
   "source": [
    "#define function for create table\n",
    "def table_transform(x):\n",
    "    output_group=[]\n",
    "    row=x\n",
    "    for i in range(1,len(row)):\n",
    "        if row[i].find_all(\"table\")==[]:\n",
    "            #print(row[i].find_all('td'))\n",
    "            if row[i].find_all('td')[0].text!=None:\n",
    "                cell0=row[i].find_all('td')[0].text\n",
    "            else:\n",
    "                cell0=''\n",
    "            if row[i].find_all('td')[1].text!=None:\n",
    "                cell1=row[i].find_all('td')[1].text\n",
    "            else:\n",
    "                cell1=''\n",
    "            if row[i].find_all('td')[1].find('a')!=None:\n",
    "                cell10=generate_tab(row[i].find_all('td')[1].find('a').get(\"href\"))\n",
    "                #cell10=row[i].find_all('td')[1].find('a').get(\"href\")\n",
    "            else:\n",
    "                cell10=''\n",
    "            if date_list(row[i].find_all('td')[2])!=[]:\n",
    "                cell2=date_list(row[i].find_all('td')[2])\n",
    "            else:\n",
    "                cell2=''\n",
    "            if check_for_star(date_list(row[i].find_all('td')[2])):\n",
    "                cell20='* issue day'\n",
    "            else:\n",
    "                cell20=''\n",
    "        else:\n",
    "            if len(row[i].find('table').find_all(\"td\"))!=1:\n",
    "                if row[i].find_all('td')[0].text!=None:\n",
    "                    cell0=row[i].find_all('td')[0].text\n",
    "                else:\n",
    "                    cell0=''\n",
    "                if row[i].find_all('td')[3].text!=None:\n",
    "                    cell1=row[i].find_all('td')[3].text\n",
    "                else:\n",
    "                    cell1=''\n",
    "                if row[i].find_all('td')[3].find('a')!=None:\n",
    "                    cell10=generate_tab(row[i].find_all('td')[3].find('a').get(\"href\"))\n",
    "                    #cell10=row[i].find_all('td')[1].find('a').get(\"href\")\n",
    "                else:\n",
    "                    cell10=''\n",
    "                if date_list(row[i].find_all('td')[4])!=[]:\n",
    "                    cell2=date_list(row[i].find_all('td')[4])\n",
    "                else:\n",
    "                    cell2=''\n",
    "                if check_for_star(date_list(row[i].find_all('td')[4])):\n",
    "                    cell20='* issue day'\n",
    "                else:\n",
    "                    cell20=''\n",
    "            else:\n",
    "                if row[i].find_all('td')[0].text!=None:\n",
    "                    cell0=row[i].find_all('td')[0].text\n",
    "                else:\n",
    "                    cell0=''\n",
    "                if row[i].find_all('td')[1].find('a')!=None:\n",
    "                    cell1=row[i].find_all('td')[1].find('a').text\n",
    "                    cell10=generate_tab(row[i].find_all('td')[1].find('a').get(\"href\"))\n",
    "                else:\n",
    "                    cell1=row[i].find_all('td')[1].text\n",
    "                    cell10=''\n",
    "                if date_list(row[i].find_all('td')[3])!=[]:\n",
    "                    cell2=date_list(row[i].find_all('td')[3])\n",
    "                else:\n",
    "                    cell2=''\n",
    "                if check_for_star(date_list(row[i].find_all('td')[3])):\n",
    "                    cell20='* issue day'\n",
    "                else:\n",
    "                    cell20=''\n",
    "        output=[cell0,cell1,cell10,cell2,cell20]\n",
    "        output_group.append(output)\n",
    "    return pd.DataFrame(output_group,columns=['LC_Paper_No.', 'paper','url', 'meeting_date','remarks'])\n"
   ]
  },
  {
   "cell_type": "code",
   "execution_count": 216,
   "metadata": {},
   "outputs": [],
   "source": [
    "def empty_or_not(x):\n",
    "    if len(x)>2:\n",
    "        return False\n",
    "    else:\n",
    "        if(x[1].find_all('td')[0].text==''and x[1].find_all('td')[1].text==''and x[1].find_all('td')[2].text==''):\n",
    "            return True\n",
    "        else:\n",
    "            return False"
   ]
  },
  {
   "cell_type": "code",
   "execution_count": 217,
   "metadata": {},
   "outputs": [],
   "source": [
    "#define function to create empty table \n",
    "def empty_table():\n",
    "    output_group=[]\n",
    "    return pd.DataFrame(output_group,columns=['LC_Paper_No.', 'paper','url', 'meeting_date','remarks'])"
   ]
  },
  {
   "cell_type": "code",
   "execution_count": 218,
   "metadata": {},
   "outputs": [],
   "source": [
    "#define function for combine tab\n",
    "def generate_tab(x):\n",
    "    desired=''\n",
    "    tab=x\n",
    "    temp=''\n",
    "    while(tab!=temp):\n",
    "        tab=tab.replace('../','')\n",
    "        temp=tab\n",
    "    url_front=url.rsplit('/',1)[0]\n",
    "    desired=url_front+'/'+tab\n",
    "    return desired"
   ]
  },
  {
   "cell_type": "code",
   "execution_count": 219,
   "metadata": {},
   "outputs": [],
   "source": [
    "def remove_duplicate(old_sources):\n",
    "    i=0\n",
    "    while(i<len(old_sources)):\n",
    "        if old_sources[i].find_all(\"table\")!=[]:old_sources.pop(i+1)\n",
    "        i+=1\n",
    "    return (old_sources)"
   ]
  },
  {
   "cell_type": "markdown",
   "metadata": {},
   "source": [
    "# General extraction first layer"
   ]
  },
  {
   "cell_type": "code",
   "execution_count": 220,
   "metadata": {},
   "outputs": [],
   "source": [
    "#define function to extract useful script\n",
    "#input soup object:table_soup\n",
    "def extract(x):\n",
    "    list=[]\n",
    "    for i in range(1,len(x.find_all(\"tr\"))):\n",
    "        list.append(x.find_all(\"tr\")[i].find_all(\"td\")[0])\n",
    "    return list"
   ]
  },
  {
   "cell_type": "code",
   "execution_count": 221,
   "metadata": {},
   "outputs": [],
   "source": [
    "#define function for combine tab\n",
    "def generate_tab_general(x):\n",
    "    desired=''\n",
    "    tab=x\n",
    "    temp=''\n",
    "    while(tab!=temp):\n",
    "        tab=tab.replace('../','')\n",
    "        temp=tab\n",
    "    desired='https://www.legco.gov.hk/'+tab\n",
    "    return desired"
   ]
  },
  {
   "cell_type": "code",
   "execution_count": 222,
   "metadata": {},
   "outputs": [],
   "source": [
    "#transform table\n",
    "#input parameter:list=extract(table_soup)\n",
    "def table_transform_general(x):\n",
    "    output_group=[]\n",
    "    for i in range(len(x)):\n",
    "        cell0=x[i].find('a').text\n",
    "        if x[i].find('a').get(\"href\")!=None:\n",
    "            cell01=generate_tab_general(x[i].find('a').get(\"href\"))\n",
    "        else:cell01=''\n",
    "        output=[cell0,cell01]\n",
    "        output_group.append(output)\n",
    "    return(pd.DataFrame(output_group,columns=['bill_name','url']))"
   ]
  },
  {
   "cell_type": "code",
   "execution_count": 223,
   "metadata": {},
   "outputs": [],
   "source": [
    "#define function\n",
    "def committee_to_table_first_layer(url):\n",
    "    response=requests.get(url,verify=False).text\n",
    "    soup=BeautifulSoup(response)\n",
    "    table_soup=soup.find(\"table\",attrs={\"class\":\"interlaced\"})\n",
    "    list=extract(table_soup)\n",
    "    return(table_transform_general(list))"
   ]
  },
  {
   "cell_type": "markdown",
   "metadata": {},
   "source": [
    "# General extraction second layer"
   ]
  },
  {
   "cell_type": "code",
   "execution_count": 189,
   "metadata": {},
   "outputs": [],
   "source": [
    "#define function for combine tab\n",
    "def generate_tab_second(x):\n",
    "    desired=''\n",
    "    tab=x\n",
    "    temp=''\n",
    "    while(tab!=temp):\n",
    "        tab=tab.replace('../','')\n",
    "        temp=tab\n",
    "    desired='https://www.legco.gov.hk/'+tab\n",
    "    return desired"
   ]
  },
  {
   "cell_type": "code",
   "execution_count": 190,
   "metadata": {},
   "outputs": [],
   "source": [
    "#define function \n",
    "#input example table_soup.find_all(\"tr\")\n",
    "def create_list(tr_list):\n",
    "    list=[]\n",
    "    for i in range(len(tr_list)):\n",
    "        for j in range(len(tr_list[i].find_all(\"td\"))):\n",
    "            if tr_list[i].find_all(\"td\")[j].find(\"strong\")!=None and tr_list[i].find_all(\"td\")[j].find(\"strong\").text=='Meetings':\n",
    "                list.append(tr_list[i])\n",
    "                break\n",
    "            if tr_list[i].find_all(\"td\")[j].find(\"strong\")!=None and tr_list[i].find_all(\"td\")[j].find(\"strong\").text=='Reports':\n",
    "                list.append(tr_list[i])\n",
    "                break\n",
    "            if tr_list[i].find_all(\"td\")[j].find(\"strong\")!=None and tr_list[i].find_all(\"td\")[j].find(\"strong\").text=='Papers':\n",
    "                list.append(tr_list[i])\n",
    "                break\n",
    "    return(list)"
   ]
  },
  {
   "cell_type": "code",
   "execution_count": 191,
   "metadata": {},
   "outputs": [],
   "source": [
    "#define function for meeting\n",
    "#input example=new_source[0].find_all(\"tr\")[i]\n",
    "def cell_info(cell_source,url):\n",
    "    cell0=cell_source.find_all(\"td\")[0].find(\"em\").text\n",
    "    if cell_source.find_all(\"td\")[0].find(\"font\")!=None:\n",
    "        cell01=cell_source.find_all(\"td\")[0].find(\"font\").text\n",
    "    else:cell01=''\n",
    "    if cell_source.find_all(\"td\")[1].find('a')!=None:\n",
    "        cell1=cell_source.find_all(\"td\")[1].find('a').get(\"href\")\n",
    "    else: cell1=''\n",
    "    if cell_source.find_all(\"td\")[3].find('a')!=None:\n",
    "        cell3=tab_gen(cell_source.find_all(\"td\")[3],url)\n",
    "        cell2='documents can be seen in minutes'\n",
    "    else:\n",
    "        cell3=''\n",
    "        cell2=''\n",
    "    return([cell0,cell01,cell1,cell2,cell3])"
   ]
  },
  {
   "cell_type": "code",
   "execution_count": 192,
   "metadata": {},
   "outputs": [],
   "source": [
    "#define function\n",
    "#input example=new_source[0]\n",
    "def meeting_table(source,url):\n",
    "    list=[]\n",
    "    for i in range(1,len(source.find_all(\"tr\"))):\n",
    "        list.append(cell_info(source.find_all(\"tr\")[i],url))\n",
    "    return(pd.DataFrame(list,columns=['date','remarks','agenda','attendance_list','minutes']))"
   ]
  },
  {
   "cell_type": "code",
   "execution_count": 193,
   "metadata": {},
   "outputs": [],
   "source": [
    "#define function\n",
    "#input example=new_source[1]\n",
    "def report_table(source):\n",
    "    list=[]\n",
    "    table=source.find(\"table\")\n",
    "    for i in range(len(table.find_all(\"tr\"))):\n",
    "        if (table.find_all(\"tr\")[i].text.strip()!=''):\n",
    "            cell0=table.find_all(\"tr\")[i].find_all(\"td\")[1].find('a').text\n",
    "            cell01=generate_tab_second(table.find_all(\"tr\")[i].find_all(\"td\")[1].find('a').get(\"href\"))\n",
    "            cell1=table.find_all(\"tr\")[i].find_all(\"td\")[1].text.replace(cell0+' ','')\n",
    "            list.append([cell0,cell01,cell1])\n",
    "    return(pd.DataFrame(list,columns=['report_name','url','remarks']))"
   ]
  },
  {
   "cell_type": "code",
   "execution_count": 194,
   "metadata": {},
   "outputs": [],
   "source": [
    "def url_to_table_second(url):\n",
    "    response=requests.get(url,verify=False).text\n",
    "    soup=BeautifulSoup(response)\n",
    "    table_soup=soup.find(\"div\",attrs={\"id\":\"_content_\"}).find(\"table\",attrs={\"width\":\"100%\"})\n",
    "    tr_list=table_soup.find_all(\"tr\")\n",
    "    new_source=create_list(table_soup.find_all(\"tr\"))\n",
    "    return([meeting_table(new_source[0],url),paper_table([tab_gen(new_source[1],url)]),report_table(new_source[2])])"
   ]
  },
  {
   "cell_type": "code",
   "execution_count": 195,
   "metadata": {},
   "outputs": [],
   "source": [
    "def tab_gen(back,url):\n",
    "    return(url.rsplit('/',2)[0]+'/'+back.find('a').get(\"href\").replace('../',''))"
   ]
  },
  {
   "cell_type": "code",
   "execution_count": 196,
   "metadata": {},
   "outputs": [],
   "source": [
    "def paper_table(x):\n",
    "    return pd.DataFrame(x,columns=['paper_url'])"
   ]
  },
  {
   "cell_type": "markdown",
   "metadata": {},
   "source": [
    "# final extraction"
   ]
  },
  {
   "cell_type": "code",
   "execution_count": 197,
   "metadata": {},
   "outputs": [],
   "source": [
    "def combine_table_general_cat(y,x):\n",
    "    final_table=pd.DataFrame()\n",
    "    for i in range(len(x)):\n",
    "        list=[]\n",
    "        for j in range(len(x[i])):\n",
    "            list.append(y.loc[i].to_list())\n",
    "        temp=pd.concat([pd.DataFrame(list,columns=('committee_name','committee_url')),x[i]],axis=1)\n",
    "        final_table=pd.concat([final_table,temp],axis=0) \n",
    "    return(final_table)"
   ]
  },
  {
   "cell_type": "code",
   "execution_count": 198,
   "metadata": {},
   "outputs": [],
   "source": [
    "def combine_table_paper_section(y,x):\n",
    "    final_table=pd.DataFrame()\n",
    "    for i in range(len(x)):\n",
    "        list=[]\n",
    "        for j in range(len(x[i])):\n",
    "            list.append(y.loc[i].to_list())\n",
    "        temp=pd.concat([pd.DataFrame(list,columns=('index','committee_name','committee_url','paper_url')),x[i]],axis=1)\n",
    "        final_table=pd.concat([final_table,temp],axis=0) \n",
    "    return(final_table)"
   ]
  },
  {
   "cell_type": "code",
   "execution_count": 199,
   "metadata": {},
   "outputs": [],
   "source": [
    "def combine_table_paper_2(y,x):\n",
    "    paper_tables=pd.DataFrame()\n",
    "    for i in range(len(y)):\n",
    "        list=[]\n",
    "        for j in range(len(x[i])):\n",
    "            list.append(y.loc[i][1:4].to_list())\n",
    "        table=pd.DataFrame(list)\n",
    "        x[i].reset_index(drop=True, inplace=True)\n",
    "        table.reset_index(drop=True, inplace=True)\n",
    "        paper_tables=pd.concat([paper_tables,pd.concat([table,x[i]],axis=1,ignore_index=True)],axis=0)\n",
    "    return (paper_tables)"
   ]
  },
  {
   "cell_type": "code",
   "execution_count": 200,
   "metadata": {},
   "outputs": [],
   "source": [
    "def tab_to_table(y):\n",
    "    url=y\n",
    "    table_01=committee_to_table_first_layer(url)\n",
    "    meeting_list=[]\n",
    "    paper_list=[]\n",
    "    report_list=[]\n",
    "    for i in range(len(committee_to_table_first_layer(url)['url'])):\n",
    "        url_1=committee_to_table_first_layer(url)['url'][i]\n",
    "        meeting_list.append(url_to_table_second(url_1)[0])\n",
    "        paper_list.append(url_to_table_second(url_1)[1])\n",
    "        report_list.append(url_to_table_second(url_1)[2])\n",
    "    meeting_table=combine_table_general_cat(table_01,meeting_list)\n",
    "    paper_table=combine_table_general_cat(table_01,paper_list)\n",
    "    report_table=combine_table_general_cat(table_01,report_list)\n",
    "    paper_table=paper_table.reset_index()\n",
    "    paper_list_2=[]\n",
    "    for i in range(len(paper_table['paper_url'])):\n",
    "        print(i)\n",
    "        url_2=paper_table['paper_url'][i]\n",
    "        url=url_2\n",
    "        paper_list_2.append(url_subcom_table_paper(url))\n",
    "    paper_final_table=combine_table_paper_2(paper_table,paper_list_2)\n",
    "    paper_final_table.rename(columns={0:'committee_name',1:'committee_url',2:'committee_paper_url',3:'paper_category',4:'paper_category_url',5:'LC_paper_no',6:'paper_name',7:'paper_url',8:'date',9:'remarks'},inplace=True)\n",
    "    return(meeting_table,paper_final_table,report_table)"
   ]
  },
  {
   "cell_type": "markdown",
   "metadata": {},
   "source": [
    "# last section trial"
   ]
  },
  {
   "cell_type": "code",
   "execution_count": null,
   "metadata": {},
   "outputs": [],
   "source": [
    "\"\"\"\n",
    "I tried to use the function above to run, but for some reason I cannot do it, \n",
    "there are always bugs when I run the function, but when i take the whole thing out and run it\n",
    "it works smoothly, I think there is sth to do with local variables and global variables\n",
    "but Im not sure how I can tackle the problem cuz there r too many functions inside another functions\n",
    "can u please take a look and help me with it\n",
    "\"\"\"\n",
    "\"\"\"\n",
    "links that u can try to throw them in for trial\n",
    "'https://www.legco.gov.hk/yr16-17/english/bc/bc1617.htm'\n",
    "'https://www.legco.gov.hk/yr17-18/english/bc/bc1617.htm'\n",
    "'https://www.legco.gov.hk/yr18-19/english/bc/bc1617.htm'\n",
    "'https://www.legco.gov.hk/yr19-20/english/bc/bc1617.htm'\n",
    "\"\"\""
   ]
  },
  {
   "cell_type": "code",
   "execution_count": 205,
   "metadata": {},
   "outputs": [
    {
     "name": "stderr",
     "output_type": "stream",
     "text": [
      "/opt/anaconda3/lib/python3.7/site-packages/urllib3/connectionpool.py:1004: InsecureRequestWarning: Unverified HTTPS request is being made to host 'www.legco.gov.hk'. Adding certificate verification is strongly advised. See: https://urllib3.readthedocs.io/en/latest/advanced-usage.html#ssl-warnings\n",
      "  InsecureRequestWarning,\n",
      "/opt/anaconda3/lib/python3.7/site-packages/urllib3/connectionpool.py:1004: InsecureRequestWarning: Unverified HTTPS request is being made to host 'www.legco.gov.hk'. Adding certificate verification is strongly advised. See: https://urllib3.readthedocs.io/en/latest/advanced-usage.html#ssl-warnings\n",
      "  InsecureRequestWarning,\n",
      "/opt/anaconda3/lib/python3.7/site-packages/urllib3/connectionpool.py:1004: InsecureRequestWarning: Unverified HTTPS request is being made to host 'www.legco.gov.hk'. Adding certificate verification is strongly advised. See: https://urllib3.readthedocs.io/en/latest/advanced-usage.html#ssl-warnings\n",
      "  InsecureRequestWarning,\n",
      "/opt/anaconda3/lib/python3.7/site-packages/urllib3/connectionpool.py:1004: InsecureRequestWarning: Unverified HTTPS request is being made to host 'www.legco.gov.hk'. Adding certificate verification is strongly advised. See: https://urllib3.readthedocs.io/en/latest/advanced-usage.html#ssl-warnings\n",
      "  InsecureRequestWarning,\n"
     ]
    },
    {
     "ename": "TypeError",
     "evalue": "'DataFrame' object is not callable",
     "output_type": "error",
     "traceback": [
      "\u001b[0;31m---------------------------------------------------------------------------\u001b[0m",
      "\u001b[0;31mTypeError\u001b[0m                                 Traceback (most recent call last)",
      "\u001b[0;32m<ipython-input-205-6ebd85dcbc69>\u001b[0m in \u001b[0;36m<module>\u001b[0;34m\u001b[0m\n\u001b[1;32m      1\u001b[0m \u001b[0my\u001b[0m\u001b[0;34m=\u001b[0m\u001b[0;34m'https://www.legco.gov.hk/yr19-20/english/bc/bc1920.htm'\u001b[0m\u001b[0;34m\u001b[0m\u001b[0;34m\u001b[0m\u001b[0m\n\u001b[0;32m----> 2\u001b[0;31m \u001b[0mresult\u001b[0m\u001b[0;34m=\u001b[0m\u001b[0mtab_to_table\u001b[0m\u001b[0;34m(\u001b[0m\u001b[0my\u001b[0m\u001b[0;34m)\u001b[0m\u001b[0;34m\u001b[0m\u001b[0;34m\u001b[0m\u001b[0m\n\u001b[0m",
      "\u001b[0;32m<ipython-input-200-7dc53e6e2729>\u001b[0m in \u001b[0;36mtab_to_table\u001b[0;34m(y)\u001b[0m\n\u001b[1;32m      7\u001b[0m     \u001b[0;32mfor\u001b[0m \u001b[0mi\u001b[0m \u001b[0;32min\u001b[0m \u001b[0mrange\u001b[0m\u001b[0;34m(\u001b[0m\u001b[0mlen\u001b[0m\u001b[0;34m(\u001b[0m\u001b[0mcommittee_to_table_first_layer\u001b[0m\u001b[0;34m(\u001b[0m\u001b[0murl\u001b[0m\u001b[0;34m)\u001b[0m\u001b[0;34m[\u001b[0m\u001b[0;34m'url'\u001b[0m\u001b[0;34m]\u001b[0m\u001b[0;34m)\u001b[0m\u001b[0;34m)\u001b[0m\u001b[0;34m:\u001b[0m\u001b[0;34m\u001b[0m\u001b[0;34m\u001b[0m\u001b[0m\n\u001b[1;32m      8\u001b[0m         \u001b[0murl_1\u001b[0m\u001b[0;34m=\u001b[0m\u001b[0mcommittee_to_table_first_layer\u001b[0m\u001b[0;34m(\u001b[0m\u001b[0murl\u001b[0m\u001b[0;34m)\u001b[0m\u001b[0;34m[\u001b[0m\u001b[0;34m'url'\u001b[0m\u001b[0;34m]\u001b[0m\u001b[0;34m[\u001b[0m\u001b[0mi\u001b[0m\u001b[0;34m]\u001b[0m\u001b[0;34m\u001b[0m\u001b[0;34m\u001b[0m\u001b[0m\n\u001b[0;32m----> 9\u001b[0;31m         \u001b[0mmeeting_list\u001b[0m\u001b[0;34m.\u001b[0m\u001b[0mappend\u001b[0m\u001b[0;34m(\u001b[0m\u001b[0murl_to_table_second\u001b[0m\u001b[0;34m(\u001b[0m\u001b[0murl_1\u001b[0m\u001b[0;34m)\u001b[0m\u001b[0;34m[\u001b[0m\u001b[0;36m0\u001b[0m\u001b[0;34m]\u001b[0m\u001b[0;34m)\u001b[0m\u001b[0;34m\u001b[0m\u001b[0;34m\u001b[0m\u001b[0m\n\u001b[0m\u001b[1;32m     10\u001b[0m         \u001b[0mpaper_list\u001b[0m\u001b[0;34m.\u001b[0m\u001b[0mappend\u001b[0m\u001b[0;34m(\u001b[0m\u001b[0murl_to_table_second\u001b[0m\u001b[0;34m(\u001b[0m\u001b[0murl_1\u001b[0m\u001b[0;34m)\u001b[0m\u001b[0;34m[\u001b[0m\u001b[0;36m1\u001b[0m\u001b[0;34m]\u001b[0m\u001b[0;34m)\u001b[0m\u001b[0;34m\u001b[0m\u001b[0;34m\u001b[0m\u001b[0m\n\u001b[1;32m     11\u001b[0m         \u001b[0mreport_list\u001b[0m\u001b[0;34m.\u001b[0m\u001b[0mappend\u001b[0m\u001b[0;34m(\u001b[0m\u001b[0murl_to_table_second\u001b[0m\u001b[0;34m(\u001b[0m\u001b[0murl_1\u001b[0m\u001b[0;34m)\u001b[0m\u001b[0;34m[\u001b[0m\u001b[0;36m2\u001b[0m\u001b[0;34m]\u001b[0m\u001b[0;34m)\u001b[0m\u001b[0;34m\u001b[0m\u001b[0;34m\u001b[0m\u001b[0m\n",
      "\u001b[0;32m<ipython-input-194-20b32109a26f>\u001b[0m in \u001b[0;36murl_to_table_second\u001b[0;34m(url)\u001b[0m\n\u001b[1;32m      5\u001b[0m     \u001b[0mtr_list\u001b[0m\u001b[0;34m=\u001b[0m\u001b[0mtable_soup\u001b[0m\u001b[0;34m.\u001b[0m\u001b[0mfind_all\u001b[0m\u001b[0;34m(\u001b[0m\u001b[0;34m\"tr\"\u001b[0m\u001b[0;34m)\u001b[0m\u001b[0;34m\u001b[0m\u001b[0;34m\u001b[0m\u001b[0m\n\u001b[1;32m      6\u001b[0m     \u001b[0mnew_source\u001b[0m\u001b[0;34m=\u001b[0m\u001b[0mcreate_list\u001b[0m\u001b[0;34m(\u001b[0m\u001b[0mtable_soup\u001b[0m\u001b[0;34m.\u001b[0m\u001b[0mfind_all\u001b[0m\u001b[0;34m(\u001b[0m\u001b[0;34m\"tr\"\u001b[0m\u001b[0;34m)\u001b[0m\u001b[0;34m)\u001b[0m\u001b[0;34m\u001b[0m\u001b[0;34m\u001b[0m\u001b[0m\n\u001b[0;32m----> 7\u001b[0;31m     \u001b[0;32mreturn\u001b[0m\u001b[0;34m(\u001b[0m\u001b[0;34m[\u001b[0m\u001b[0mmeeting_table\u001b[0m\u001b[0;34m(\u001b[0m\u001b[0mnew_source\u001b[0m\u001b[0;34m[\u001b[0m\u001b[0;36m0\u001b[0m\u001b[0;34m]\u001b[0m\u001b[0;34m,\u001b[0m\u001b[0murl\u001b[0m\u001b[0;34m)\u001b[0m\u001b[0;34m,\u001b[0m\u001b[0mpaper_table\u001b[0m\u001b[0;34m(\u001b[0m\u001b[0;34m[\u001b[0m\u001b[0mtab_gen\u001b[0m\u001b[0;34m(\u001b[0m\u001b[0mnew_source\u001b[0m\u001b[0;34m[\u001b[0m\u001b[0;36m1\u001b[0m\u001b[0;34m]\u001b[0m\u001b[0;34m,\u001b[0m\u001b[0murl\u001b[0m\u001b[0;34m)\u001b[0m\u001b[0;34m]\u001b[0m\u001b[0;34m)\u001b[0m\u001b[0;34m,\u001b[0m\u001b[0mreport_table\u001b[0m\u001b[0;34m(\u001b[0m\u001b[0mnew_source\u001b[0m\u001b[0;34m[\u001b[0m\u001b[0;36m2\u001b[0m\u001b[0;34m]\u001b[0m\u001b[0;34m)\u001b[0m\u001b[0;34m]\u001b[0m\u001b[0;34m)\u001b[0m\u001b[0;34m\u001b[0m\u001b[0;34m\u001b[0m\u001b[0m\n\u001b[0m",
      "\u001b[0;31mTypeError\u001b[0m: 'DataFrame' object is not callable"
     ]
    }
   ],
   "source": [
    "y='https://www.legco.gov.hk/yr19-20/english/bc/bc1920.htm'\n",
    "result=tab_to_table(y)"
   ]
  },
  {
   "cell_type": "code",
   "execution_count": 201,
   "metadata": {},
   "outputs": [
    {
     "name": "stderr",
     "output_type": "stream",
     "text": [
      "/opt/anaconda3/lib/python3.7/site-packages/urllib3/connectionpool.py:1004: InsecureRequestWarning: Unverified HTTPS request is being made to host 'www.legco.gov.hk'. Adding certificate verification is strongly advised. See: https://urllib3.readthedocs.io/en/latest/advanced-usage.html#ssl-warnings\n",
      "  InsecureRequestWarning,\n",
      "/opt/anaconda3/lib/python3.7/site-packages/urllib3/connectionpool.py:1004: InsecureRequestWarning: Unverified HTTPS request is being made to host 'www.legco.gov.hk'. Adding certificate verification is strongly advised. See: https://urllib3.readthedocs.io/en/latest/advanced-usage.html#ssl-warnings\n",
      "  InsecureRequestWarning,\n",
      "/opt/anaconda3/lib/python3.7/site-packages/urllib3/connectionpool.py:1004: InsecureRequestWarning: Unverified HTTPS request is being made to host 'www.legco.gov.hk'. Adding certificate verification is strongly advised. See: https://urllib3.readthedocs.io/en/latest/advanced-usage.html#ssl-warnings\n",
      "  InsecureRequestWarning,\n"
     ]
    },
    {
     "name": "stdout",
     "output_type": "stream",
     "text": [
      "0\n"
     ]
    },
    {
     "name": "stderr",
     "output_type": "stream",
     "text": [
      "/opt/anaconda3/lib/python3.7/site-packages/urllib3/connectionpool.py:1004: InsecureRequestWarning: Unverified HTTPS request is being made to host 'www.legco.gov.hk'. Adding certificate verification is strongly advised. See: https://urllib3.readthedocs.io/en/latest/advanced-usage.html#ssl-warnings\n",
      "  InsecureRequestWarning,\n",
      "/opt/anaconda3/lib/python3.7/site-packages/urllib3/connectionpool.py:1004: InsecureRequestWarning: Unverified HTTPS request is being made to host 'www.legco.gov.hk'. Adding certificate verification is strongly advised. See: https://urllib3.readthedocs.io/en/latest/advanced-usage.html#ssl-warnings\n",
      "  InsecureRequestWarning,\n",
      "/opt/anaconda3/lib/python3.7/site-packages/urllib3/connectionpool.py:1004: InsecureRequestWarning: Unverified HTTPS request is being made to host 'www.legco.gov.hk'. Adding certificate verification is strongly advised. See: https://urllib3.readthedocs.io/en/latest/advanced-usage.html#ssl-warnings\n",
      "  InsecureRequestWarning,\n",
      "/opt/anaconda3/lib/python3.7/site-packages/urllib3/connectionpool.py:1004: InsecureRequestWarning: Unverified HTTPS request is being made to host 'www.legco.gov.hk'. Adding certificate verification is strongly advised. See: https://urllib3.readthedocs.io/en/latest/advanced-usage.html#ssl-warnings\n",
      "  InsecureRequestWarning,\n"
     ]
    },
    {
     "name": "stdout",
     "output_type": "stream",
     "text": [
      "1\n"
     ]
    },
    {
     "name": "stderr",
     "output_type": "stream",
     "text": [
      "/opt/anaconda3/lib/python3.7/site-packages/urllib3/connectionpool.py:1004: InsecureRequestWarning: Unverified HTTPS request is being made to host 'www.legco.gov.hk'. Adding certificate verification is strongly advised. See: https://urllib3.readthedocs.io/en/latest/advanced-usage.html#ssl-warnings\n",
      "  InsecureRequestWarning,\n",
      "/opt/anaconda3/lib/python3.7/site-packages/urllib3/connectionpool.py:1004: InsecureRequestWarning: Unverified HTTPS request is being made to host 'www.legco.gov.hk'. Adding certificate verification is strongly advised. See: https://urllib3.readthedocs.io/en/latest/advanced-usage.html#ssl-warnings\n",
      "  InsecureRequestWarning,\n",
      "/opt/anaconda3/lib/python3.7/site-packages/urllib3/connectionpool.py:1004: InsecureRequestWarning: Unverified HTTPS request is being made to host 'www.legco.gov.hk'. Adding certificate verification is strongly advised. See: https://urllib3.readthedocs.io/en/latest/advanced-usage.html#ssl-warnings\n",
      "  InsecureRequestWarning,\n"
     ]
    },
    {
     "name": "stdout",
     "output_type": "stream",
     "text": [
      "2\n"
     ]
    },
    {
     "name": "stderr",
     "output_type": "stream",
     "text": [
      "/opt/anaconda3/lib/python3.7/site-packages/urllib3/connectionpool.py:1004: InsecureRequestWarning: Unverified HTTPS request is being made to host 'www.legco.gov.hk'. Adding certificate verification is strongly advised. See: https://urllib3.readthedocs.io/en/latest/advanced-usage.html#ssl-warnings\n",
      "  InsecureRequestWarning,\n",
      "/opt/anaconda3/lib/python3.7/site-packages/urllib3/connectionpool.py:1004: InsecureRequestWarning: Unverified HTTPS request is being made to host 'www.legco.gov.hk'. Adding certificate verification is strongly advised. See: https://urllib3.readthedocs.io/en/latest/advanced-usage.html#ssl-warnings\n",
      "  InsecureRequestWarning,\n",
      "/opt/anaconda3/lib/python3.7/site-packages/urllib3/connectionpool.py:1004: InsecureRequestWarning: Unverified HTTPS request is being made to host 'www.legco.gov.hk'. Adding certificate verification is strongly advised. See: https://urllib3.readthedocs.io/en/latest/advanced-usage.html#ssl-warnings\n",
      "  InsecureRequestWarning,\n",
      "/opt/anaconda3/lib/python3.7/site-packages/urllib3/connectionpool.py:1004: InsecureRequestWarning: Unverified HTTPS request is being made to host 'www.legco.gov.hk'. Adding certificate verification is strongly advised. See: https://urllib3.readthedocs.io/en/latest/advanced-usage.html#ssl-warnings\n",
      "  InsecureRequestWarning,\n",
      "/opt/anaconda3/lib/python3.7/site-packages/urllib3/connectionpool.py:1004: InsecureRequestWarning: Unverified HTTPS request is being made to host 'www.legco.gov.hk'. Adding certificate verification is strongly advised. See: https://urllib3.readthedocs.io/en/latest/advanced-usage.html#ssl-warnings\n",
      "  InsecureRequestWarning,\n"
     ]
    },
    {
     "name": "stdout",
     "output_type": "stream",
     "text": [
      "3\n"
     ]
    },
    {
     "name": "stderr",
     "output_type": "stream",
     "text": [
      "/opt/anaconda3/lib/python3.7/site-packages/urllib3/connectionpool.py:1004: InsecureRequestWarning: Unverified HTTPS request is being made to host 'www.legco.gov.hk'. Adding certificate verification is strongly advised. See: https://urllib3.readthedocs.io/en/latest/advanced-usage.html#ssl-warnings\n",
      "  InsecureRequestWarning,\n",
      "/opt/anaconda3/lib/python3.7/site-packages/urllib3/connectionpool.py:1004: InsecureRequestWarning: Unverified HTTPS request is being made to host 'www.legco.gov.hk'. Adding certificate verification is strongly advised. See: https://urllib3.readthedocs.io/en/latest/advanced-usage.html#ssl-warnings\n",
      "  InsecureRequestWarning,\n",
      "/opt/anaconda3/lib/python3.7/site-packages/urllib3/connectionpool.py:1004: InsecureRequestWarning: Unverified HTTPS request is being made to host 'www.legco.gov.hk'. Adding certificate verification is strongly advised. See: https://urllib3.readthedocs.io/en/latest/advanced-usage.html#ssl-warnings\n",
      "  InsecureRequestWarning,\n"
     ]
    },
    {
     "name": "stdout",
     "output_type": "stream",
     "text": [
      "4\n"
     ]
    },
    {
     "name": "stderr",
     "output_type": "stream",
     "text": [
      "/opt/anaconda3/lib/python3.7/site-packages/urllib3/connectionpool.py:1004: InsecureRequestWarning: Unverified HTTPS request is being made to host 'www.legco.gov.hk'. Adding certificate verification is strongly advised. See: https://urllib3.readthedocs.io/en/latest/advanced-usage.html#ssl-warnings\n",
      "  InsecureRequestWarning,\n",
      "/opt/anaconda3/lib/python3.7/site-packages/urllib3/connectionpool.py:1004: InsecureRequestWarning: Unverified HTTPS request is being made to host 'www.legco.gov.hk'. Adding certificate verification is strongly advised. See: https://urllib3.readthedocs.io/en/latest/advanced-usage.html#ssl-warnings\n",
      "  InsecureRequestWarning,\n",
      "/opt/anaconda3/lib/python3.7/site-packages/urllib3/connectionpool.py:1004: InsecureRequestWarning: Unverified HTTPS request is being made to host 'www.legco.gov.hk'. Adding certificate verification is strongly advised. See: https://urllib3.readthedocs.io/en/latest/advanced-usage.html#ssl-warnings\n",
      "  InsecureRequestWarning,\n",
      "/opt/anaconda3/lib/python3.7/site-packages/urllib3/connectionpool.py:1004: InsecureRequestWarning: Unverified HTTPS request is being made to host 'www.legco.gov.hk'. Adding certificate verification is strongly advised. See: https://urllib3.readthedocs.io/en/latest/advanced-usage.html#ssl-warnings\n",
      "  InsecureRequestWarning,\n",
      "/opt/anaconda3/lib/python3.7/site-packages/urllib3/connectionpool.py:1004: InsecureRequestWarning: Unverified HTTPS request is being made to host 'www.legco.gov.hk'. Adding certificate verification is strongly advised. See: https://urllib3.readthedocs.io/en/latest/advanced-usage.html#ssl-warnings\n",
      "  InsecureRequestWarning,\n",
      "/opt/anaconda3/lib/python3.7/site-packages/urllib3/connectionpool.py:1004: InsecureRequestWarning: Unverified HTTPS request is being made to host 'www.legco.gov.hk'. Adding certificate verification is strongly advised. See: https://urllib3.readthedocs.io/en/latest/advanced-usage.html#ssl-warnings\n",
      "  InsecureRequestWarning,\n"
     ]
    },
    {
     "name": "stdout",
     "output_type": "stream",
     "text": [
      "5\n"
     ]
    },
    {
     "name": "stderr",
     "output_type": "stream",
     "text": [
      "/opt/anaconda3/lib/python3.7/site-packages/urllib3/connectionpool.py:1004: InsecureRequestWarning: Unverified HTTPS request is being made to host 'www.legco.gov.hk'. Adding certificate verification is strongly advised. See: https://urllib3.readthedocs.io/en/latest/advanced-usage.html#ssl-warnings\n",
      "  InsecureRequestWarning,\n",
      "/opt/anaconda3/lib/python3.7/site-packages/urllib3/connectionpool.py:1004: InsecureRequestWarning: Unverified HTTPS request is being made to host 'www.legco.gov.hk'. Adding certificate verification is strongly advised. See: https://urllib3.readthedocs.io/en/latest/advanced-usage.html#ssl-warnings\n",
      "  InsecureRequestWarning,\n",
      "/opt/anaconda3/lib/python3.7/site-packages/urllib3/connectionpool.py:1004: InsecureRequestWarning: Unverified HTTPS request is being made to host 'www.legco.gov.hk'. Adding certificate verification is strongly advised. See: https://urllib3.readthedocs.io/en/latest/advanced-usage.html#ssl-warnings\n",
      "  InsecureRequestWarning,\n"
     ]
    },
    {
     "name": "stdout",
     "output_type": "stream",
     "text": [
      "6\n"
     ]
    },
    {
     "name": "stderr",
     "output_type": "stream",
     "text": [
      "/opt/anaconda3/lib/python3.7/site-packages/urllib3/connectionpool.py:1004: InsecureRequestWarning: Unverified HTTPS request is being made to host 'www.legco.gov.hk'. Adding certificate verification is strongly advised. See: https://urllib3.readthedocs.io/en/latest/advanced-usage.html#ssl-warnings\n",
      "  InsecureRequestWarning,\n",
      "/opt/anaconda3/lib/python3.7/site-packages/urllib3/connectionpool.py:1004: InsecureRequestWarning: Unverified HTTPS request is being made to host 'www.legco.gov.hk'. Adding certificate verification is strongly advised. See: https://urllib3.readthedocs.io/en/latest/advanced-usage.html#ssl-warnings\n",
      "  InsecureRequestWarning,\n",
      "/opt/anaconda3/lib/python3.7/site-packages/urllib3/connectionpool.py:1004: InsecureRequestWarning: Unverified HTTPS request is being made to host 'www.legco.gov.hk'. Adding certificate verification is strongly advised. See: https://urllib3.readthedocs.io/en/latest/advanced-usage.html#ssl-warnings\n",
      "  InsecureRequestWarning,\n",
      "/opt/anaconda3/lib/python3.7/site-packages/urllib3/connectionpool.py:1004: InsecureRequestWarning: Unverified HTTPS request is being made to host 'www.legco.gov.hk'. Adding certificate verification is strongly advised. See: https://urllib3.readthedocs.io/en/latest/advanced-usage.html#ssl-warnings\n",
      "  InsecureRequestWarning,\n",
      "/opt/anaconda3/lib/python3.7/site-packages/urllib3/connectionpool.py:1004: InsecureRequestWarning: Unverified HTTPS request is being made to host 'www.legco.gov.hk'. Adding certificate verification is strongly advised. See: https://urllib3.readthedocs.io/en/latest/advanced-usage.html#ssl-warnings\n",
      "  InsecureRequestWarning,\n"
     ]
    },
    {
     "name": "stdout",
     "output_type": "stream",
     "text": [
      "7\n"
     ]
    },
    {
     "name": "stderr",
     "output_type": "stream",
     "text": [
      "/opt/anaconda3/lib/python3.7/site-packages/urllib3/connectionpool.py:1004: InsecureRequestWarning: Unverified HTTPS request is being made to host 'www.legco.gov.hk'. Adding certificate verification is strongly advised. See: https://urllib3.readthedocs.io/en/latest/advanced-usage.html#ssl-warnings\n",
      "  InsecureRequestWarning,\n",
      "/opt/anaconda3/lib/python3.7/site-packages/urllib3/connectionpool.py:1004: InsecureRequestWarning: Unverified HTTPS request is being made to host 'www.legco.gov.hk'. Adding certificate verification is strongly advised. See: https://urllib3.readthedocs.io/en/latest/advanced-usage.html#ssl-warnings\n",
      "  InsecureRequestWarning,\n",
      "/opt/anaconda3/lib/python3.7/site-packages/urllib3/connectionpool.py:1004: InsecureRequestWarning: Unverified HTTPS request is being made to host 'www.legco.gov.hk'. Adding certificate verification is strongly advised. See: https://urllib3.readthedocs.io/en/latest/advanced-usage.html#ssl-warnings\n",
      "  InsecureRequestWarning,\n"
     ]
    },
    {
     "name": "stdout",
     "output_type": "stream",
     "text": [
      "8\n"
     ]
    },
    {
     "name": "stderr",
     "output_type": "stream",
     "text": [
      "/opt/anaconda3/lib/python3.7/site-packages/urllib3/connectionpool.py:1004: InsecureRequestWarning: Unverified HTTPS request is being made to host 'www.legco.gov.hk'. Adding certificate verification is strongly advised. See: https://urllib3.readthedocs.io/en/latest/advanced-usage.html#ssl-warnings\n",
      "  InsecureRequestWarning,\n",
      "/opt/anaconda3/lib/python3.7/site-packages/urllib3/connectionpool.py:1004: InsecureRequestWarning: Unverified HTTPS request is being made to host 'www.legco.gov.hk'. Adding certificate verification is strongly advised. See: https://urllib3.readthedocs.io/en/latest/advanced-usage.html#ssl-warnings\n",
      "  InsecureRequestWarning,\n",
      "/opt/anaconda3/lib/python3.7/site-packages/urllib3/connectionpool.py:1004: InsecureRequestWarning: Unverified HTTPS request is being made to host 'www.legco.gov.hk'. Adding certificate verification is strongly advised. See: https://urllib3.readthedocs.io/en/latest/advanced-usage.html#ssl-warnings\n",
      "  InsecureRequestWarning,\n",
      "/opt/anaconda3/lib/python3.7/site-packages/urllib3/connectionpool.py:1004: InsecureRequestWarning: Unverified HTTPS request is being made to host 'www.legco.gov.hk'. Adding certificate verification is strongly advised. See: https://urllib3.readthedocs.io/en/latest/advanced-usage.html#ssl-warnings\n",
      "  InsecureRequestWarning,\n",
      "/opt/anaconda3/lib/python3.7/site-packages/urllib3/connectionpool.py:1004: InsecureRequestWarning: Unverified HTTPS request is being made to host 'www.legco.gov.hk'. Adding certificate verification is strongly advised. See: https://urllib3.readthedocs.io/en/latest/advanced-usage.html#ssl-warnings\n",
      "  InsecureRequestWarning,\n"
     ]
    },
    {
     "name": "stdout",
     "output_type": "stream",
     "text": [
      "9\n"
     ]
    },
    {
     "name": "stderr",
     "output_type": "stream",
     "text": [
      "/opt/anaconda3/lib/python3.7/site-packages/urllib3/connectionpool.py:1004: InsecureRequestWarning: Unverified HTTPS request is being made to host 'www.legco.gov.hk'. Adding certificate verification is strongly advised. See: https://urllib3.readthedocs.io/en/latest/advanced-usage.html#ssl-warnings\n",
      "  InsecureRequestWarning,\n",
      "/opt/anaconda3/lib/python3.7/site-packages/urllib3/connectionpool.py:1004: InsecureRequestWarning: Unverified HTTPS request is being made to host 'www.legco.gov.hk'. Adding certificate verification is strongly advised. See: https://urllib3.readthedocs.io/en/latest/advanced-usage.html#ssl-warnings\n",
      "  InsecureRequestWarning,\n",
      "/opt/anaconda3/lib/python3.7/site-packages/urllib3/connectionpool.py:1004: InsecureRequestWarning: Unverified HTTPS request is being made to host 'www.legco.gov.hk'. Adding certificate verification is strongly advised. See: https://urllib3.readthedocs.io/en/latest/advanced-usage.html#ssl-warnings\n",
      "  InsecureRequestWarning,\n"
     ]
    },
    {
     "name": "stdout",
     "output_type": "stream",
     "text": [
      "10\n"
     ]
    },
    {
     "name": "stderr",
     "output_type": "stream",
     "text": [
      "/opt/anaconda3/lib/python3.7/site-packages/urllib3/connectionpool.py:1004: InsecureRequestWarning: Unverified HTTPS request is being made to host 'www.legco.gov.hk'. Adding certificate verification is strongly advised. See: https://urllib3.readthedocs.io/en/latest/advanced-usage.html#ssl-warnings\n",
      "  InsecureRequestWarning,\n",
      "/opt/anaconda3/lib/python3.7/site-packages/urllib3/connectionpool.py:1004: InsecureRequestWarning: Unverified HTTPS request is being made to host 'www.legco.gov.hk'. Adding certificate verification is strongly advised. See: https://urllib3.readthedocs.io/en/latest/advanced-usage.html#ssl-warnings\n",
      "  InsecureRequestWarning,\n",
      "/opt/anaconda3/lib/python3.7/site-packages/urllib3/connectionpool.py:1004: InsecureRequestWarning: Unverified HTTPS request is being made to host 'www.legco.gov.hk'. Adding certificate verification is strongly advised. See: https://urllib3.readthedocs.io/en/latest/advanced-usage.html#ssl-warnings\n",
      "  InsecureRequestWarning,\n",
      "/opt/anaconda3/lib/python3.7/site-packages/urllib3/connectionpool.py:1004: InsecureRequestWarning: Unverified HTTPS request is being made to host 'www.legco.gov.hk'. Adding certificate verification is strongly advised. See: https://urllib3.readthedocs.io/en/latest/advanced-usage.html#ssl-warnings\n",
      "  InsecureRequestWarning,\n",
      "/opt/anaconda3/lib/python3.7/site-packages/urllib3/connectionpool.py:1004: InsecureRequestWarning: Unverified HTTPS request is being made to host 'www.legco.gov.hk'. Adding certificate verification is strongly advised. See: https://urllib3.readthedocs.io/en/latest/advanced-usage.html#ssl-warnings\n",
      "  InsecureRequestWarning,\n"
     ]
    },
    {
     "name": "stdout",
     "output_type": "stream",
     "text": [
      "11\n"
     ]
    },
    {
     "name": "stderr",
     "output_type": "stream",
     "text": [
      "/opt/anaconda3/lib/python3.7/site-packages/urllib3/connectionpool.py:1004: InsecureRequestWarning: Unverified HTTPS request is being made to host 'www.legco.gov.hk'. Adding certificate verification is strongly advised. See: https://urllib3.readthedocs.io/en/latest/advanced-usage.html#ssl-warnings\n",
      "  InsecureRequestWarning,\n",
      "/opt/anaconda3/lib/python3.7/site-packages/urllib3/connectionpool.py:1004: InsecureRequestWarning: Unverified HTTPS request is being made to host 'www.legco.gov.hk'. Adding certificate verification is strongly advised. See: https://urllib3.readthedocs.io/en/latest/advanced-usage.html#ssl-warnings\n",
      "  InsecureRequestWarning,\n",
      "/opt/anaconda3/lib/python3.7/site-packages/urllib3/connectionpool.py:1004: InsecureRequestWarning: Unverified HTTPS request is being made to host 'www.legco.gov.hk'. Adding certificate verification is strongly advised. See: https://urllib3.readthedocs.io/en/latest/advanced-usage.html#ssl-warnings\n",
      "  InsecureRequestWarning,\n"
     ]
    },
    {
     "name": "stdout",
     "output_type": "stream",
     "text": [
      "12\n"
     ]
    },
    {
     "name": "stderr",
     "output_type": "stream",
     "text": [
      "/opt/anaconda3/lib/python3.7/site-packages/urllib3/connectionpool.py:1004: InsecureRequestWarning: Unverified HTTPS request is being made to host 'www.legco.gov.hk'. Adding certificate verification is strongly advised. See: https://urllib3.readthedocs.io/en/latest/advanced-usage.html#ssl-warnings\n",
      "  InsecureRequestWarning,\n",
      "/opt/anaconda3/lib/python3.7/site-packages/urllib3/connectionpool.py:1004: InsecureRequestWarning: Unverified HTTPS request is being made to host 'www.legco.gov.hk'. Adding certificate verification is strongly advised. See: https://urllib3.readthedocs.io/en/latest/advanced-usage.html#ssl-warnings\n",
      "  InsecureRequestWarning,\n",
      "/opt/anaconda3/lib/python3.7/site-packages/urllib3/connectionpool.py:1004: InsecureRequestWarning: Unverified HTTPS request is being made to host 'www.legco.gov.hk'. Adding certificate verification is strongly advised. See: https://urllib3.readthedocs.io/en/latest/advanced-usage.html#ssl-warnings\n",
      "  InsecureRequestWarning,\n"
     ]
    },
    {
     "name": "stdout",
     "output_type": "stream",
     "text": [
      "13\n"
     ]
    },
    {
     "name": "stderr",
     "output_type": "stream",
     "text": [
      "/opt/anaconda3/lib/python3.7/site-packages/urllib3/connectionpool.py:1004: InsecureRequestWarning: Unverified HTTPS request is being made to host 'www.legco.gov.hk'. Adding certificate verification is strongly advised. See: https://urllib3.readthedocs.io/en/latest/advanced-usage.html#ssl-warnings\n",
      "  InsecureRequestWarning,\n",
      "/opt/anaconda3/lib/python3.7/site-packages/urllib3/connectionpool.py:1004: InsecureRequestWarning: Unverified HTTPS request is being made to host 'www.legco.gov.hk'. Adding certificate verification is strongly advised. See: https://urllib3.readthedocs.io/en/latest/advanced-usage.html#ssl-warnings\n",
      "  InsecureRequestWarning,\n",
      "/opt/anaconda3/lib/python3.7/site-packages/urllib3/connectionpool.py:1004: InsecureRequestWarning: Unverified HTTPS request is being made to host 'www.legco.gov.hk'. Adding certificate verification is strongly advised. See: https://urllib3.readthedocs.io/en/latest/advanced-usage.html#ssl-warnings\n",
      "  InsecureRequestWarning,\n",
      "/opt/anaconda3/lib/python3.7/site-packages/urllib3/connectionpool.py:1004: InsecureRequestWarning: Unverified HTTPS request is being made to host 'www.legco.gov.hk'. Adding certificate verification is strongly advised. See: https://urllib3.readthedocs.io/en/latest/advanced-usage.html#ssl-warnings\n",
      "  InsecureRequestWarning,\n"
     ]
    },
    {
     "name": "stdout",
     "output_type": "stream",
     "text": [
      "0\n"
     ]
    },
    {
     "name": "stderr",
     "output_type": "stream",
     "text": [
      "/opt/anaconda3/lib/python3.7/site-packages/urllib3/connectionpool.py:1004: InsecureRequestWarning: Unverified HTTPS request is being made to host 'www.legco.gov.hk'. Adding certificate verification is strongly advised. See: https://urllib3.readthedocs.io/en/latest/advanced-usage.html#ssl-warnings\n",
      "  InsecureRequestWarning,\n",
      "/opt/anaconda3/lib/python3.7/site-packages/urllib3/connectionpool.py:1004: InsecureRequestWarning: Unverified HTTPS request is being made to host 'www.legco.gov.hk'. Adding certificate verification is strongly advised. See: https://urllib3.readthedocs.io/en/latest/advanced-usage.html#ssl-warnings\n",
      "  InsecureRequestWarning,\n",
      "/opt/anaconda3/lib/python3.7/site-packages/urllib3/connectionpool.py:1004: InsecureRequestWarning: Unverified HTTPS request is being made to host 'www.legco.gov.hk'. Adding certificate verification is strongly advised. See: https://urllib3.readthedocs.io/en/latest/advanced-usage.html#ssl-warnings\n",
      "  InsecureRequestWarning,\n",
      "/opt/anaconda3/lib/python3.7/site-packages/urllib3/connectionpool.py:1004: InsecureRequestWarning: Unverified HTTPS request is being made to host 'www.legco.gov.hk'. Adding certificate verification is strongly advised. See: https://urllib3.readthedocs.io/en/latest/advanced-usage.html#ssl-warnings\n",
      "  InsecureRequestWarning,\n",
      "/opt/anaconda3/lib/python3.7/site-packages/urllib3/connectionpool.py:1004: InsecureRequestWarning: Unverified HTTPS request is being made to host 'www.legco.gov.hk'. Adding certificate verification is strongly advised. See: https://urllib3.readthedocs.io/en/latest/advanced-usage.html#ssl-warnings\n",
      "  InsecureRequestWarning,\n",
      "/opt/anaconda3/lib/python3.7/site-packages/urllib3/connectionpool.py:1004: InsecureRequestWarning: Unverified HTTPS request is being made to host 'www.legco.gov.hk'. Adding certificate verification is strongly advised. See: https://urllib3.readthedocs.io/en/latest/advanced-usage.html#ssl-warnings\n",
      "  InsecureRequestWarning,\n",
      "/opt/anaconda3/lib/python3.7/site-packages/urllib3/connectionpool.py:1004: InsecureRequestWarning: Unverified HTTPS request is being made to host 'www.legco.gov.hk'. Adding certificate verification is strongly advised. See: https://urllib3.readthedocs.io/en/latest/advanced-usage.html#ssl-warnings\n",
      "  InsecureRequestWarning,\n"
     ]
    },
    {
     "name": "stdout",
     "output_type": "stream",
     "text": [
      "1\n"
     ]
    },
    {
     "name": "stderr",
     "output_type": "stream",
     "text": [
      "/opt/anaconda3/lib/python3.7/site-packages/urllib3/connectionpool.py:1004: InsecureRequestWarning: Unverified HTTPS request is being made to host 'www.legco.gov.hk'. Adding certificate verification is strongly advised. See: https://urllib3.readthedocs.io/en/latest/advanced-usage.html#ssl-warnings\n",
      "  InsecureRequestWarning,\n",
      "/opt/anaconda3/lib/python3.7/site-packages/urllib3/connectionpool.py:1004: InsecureRequestWarning: Unverified HTTPS request is being made to host 'www.legco.gov.hk'. Adding certificate verification is strongly advised. See: https://urllib3.readthedocs.io/en/latest/advanced-usage.html#ssl-warnings\n",
      "  InsecureRequestWarning,\n",
      "/opt/anaconda3/lib/python3.7/site-packages/urllib3/connectionpool.py:1004: InsecureRequestWarning: Unverified HTTPS request is being made to host 'www.legco.gov.hk'. Adding certificate verification is strongly advised. See: https://urllib3.readthedocs.io/en/latest/advanced-usage.html#ssl-warnings\n",
      "  InsecureRequestWarning,\n",
      "/opt/anaconda3/lib/python3.7/site-packages/urllib3/connectionpool.py:1004: InsecureRequestWarning: Unverified HTTPS request is being made to host 'www.legco.gov.hk'. Adding certificate verification is strongly advised. See: https://urllib3.readthedocs.io/en/latest/advanced-usage.html#ssl-warnings\n",
      "  InsecureRequestWarning,\n",
      "/opt/anaconda3/lib/python3.7/site-packages/urllib3/connectionpool.py:1004: InsecureRequestWarning: Unverified HTTPS request is being made to host 'www.legco.gov.hk'. Adding certificate verification is strongly advised. See: https://urllib3.readthedocs.io/en/latest/advanced-usage.html#ssl-warnings\n",
      "  InsecureRequestWarning,\n",
      "/opt/anaconda3/lib/python3.7/site-packages/urllib3/connectionpool.py:1004: InsecureRequestWarning: Unverified HTTPS request is being made to host 'www.legco.gov.hk'. Adding certificate verification is strongly advised. See: https://urllib3.readthedocs.io/en/latest/advanced-usage.html#ssl-warnings\n",
      "  InsecureRequestWarning,\n"
     ]
    },
    {
     "name": "stdout",
     "output_type": "stream",
     "text": [
      "2\n"
     ]
    },
    {
     "name": "stderr",
     "output_type": "stream",
     "text": [
      "/opt/anaconda3/lib/python3.7/site-packages/urllib3/connectionpool.py:1004: InsecureRequestWarning: Unverified HTTPS request is being made to host 'www.legco.gov.hk'. Adding certificate verification is strongly advised. See: https://urllib3.readthedocs.io/en/latest/advanced-usage.html#ssl-warnings\n",
      "  InsecureRequestWarning,\n",
      "/opt/anaconda3/lib/python3.7/site-packages/urllib3/connectionpool.py:1004: InsecureRequestWarning: Unverified HTTPS request is being made to host 'www.legco.gov.hk'. Adding certificate verification is strongly advised. See: https://urllib3.readthedocs.io/en/latest/advanced-usage.html#ssl-warnings\n",
      "  InsecureRequestWarning,\n",
      "/opt/anaconda3/lib/python3.7/site-packages/urllib3/connectionpool.py:1004: InsecureRequestWarning: Unverified HTTPS request is being made to host 'www.legco.gov.hk'. Adding certificate verification is strongly advised. See: https://urllib3.readthedocs.io/en/latest/advanced-usage.html#ssl-warnings\n",
      "  InsecureRequestWarning,\n",
      "/opt/anaconda3/lib/python3.7/site-packages/urllib3/connectionpool.py:1004: InsecureRequestWarning: Unverified HTTPS request is being made to host 'www.legco.gov.hk'. Adding certificate verification is strongly advised. See: https://urllib3.readthedocs.io/en/latest/advanced-usage.html#ssl-warnings\n",
      "  InsecureRequestWarning,\n",
      "/opt/anaconda3/lib/python3.7/site-packages/urllib3/connectionpool.py:1004: InsecureRequestWarning: Unverified HTTPS request is being made to host 'www.legco.gov.hk'. Adding certificate verification is strongly advised. See: https://urllib3.readthedocs.io/en/latest/advanced-usage.html#ssl-warnings\n",
      "  InsecureRequestWarning,\n",
      "/opt/anaconda3/lib/python3.7/site-packages/urllib3/connectionpool.py:1004: InsecureRequestWarning: Unverified HTTPS request is being made to host 'www.legco.gov.hk'. Adding certificate verification is strongly advised. See: https://urllib3.readthedocs.io/en/latest/advanced-usage.html#ssl-warnings\n",
      "  InsecureRequestWarning,\n"
     ]
    },
    {
     "name": "stdout",
     "output_type": "stream",
     "text": [
      "3\n"
     ]
    },
    {
     "name": "stderr",
     "output_type": "stream",
     "text": [
      "/opt/anaconda3/lib/python3.7/site-packages/urllib3/connectionpool.py:1004: InsecureRequestWarning: Unverified HTTPS request is being made to host 'www.legco.gov.hk'. Adding certificate verification is strongly advised. See: https://urllib3.readthedocs.io/en/latest/advanced-usage.html#ssl-warnings\n",
      "  InsecureRequestWarning,\n",
      "/opt/anaconda3/lib/python3.7/site-packages/urllib3/connectionpool.py:1004: InsecureRequestWarning: Unverified HTTPS request is being made to host 'www.legco.gov.hk'. Adding certificate verification is strongly advised. See: https://urllib3.readthedocs.io/en/latest/advanced-usage.html#ssl-warnings\n",
      "  InsecureRequestWarning,\n",
      "/opt/anaconda3/lib/python3.7/site-packages/urllib3/connectionpool.py:1004: InsecureRequestWarning: Unverified HTTPS request is being made to host 'www.legco.gov.hk'. Adding certificate verification is strongly advised. See: https://urllib3.readthedocs.io/en/latest/advanced-usage.html#ssl-warnings\n",
      "  InsecureRequestWarning,\n",
      "/opt/anaconda3/lib/python3.7/site-packages/urllib3/connectionpool.py:1004: InsecureRequestWarning: Unverified HTTPS request is being made to host 'www.legco.gov.hk'. Adding certificate verification is strongly advised. See: https://urllib3.readthedocs.io/en/latest/advanced-usage.html#ssl-warnings\n",
      "  InsecureRequestWarning,\n",
      "/opt/anaconda3/lib/python3.7/site-packages/urllib3/connectionpool.py:1004: InsecureRequestWarning: Unverified HTTPS request is being made to host 'www.legco.gov.hk'. Adding certificate verification is strongly advised. See: https://urllib3.readthedocs.io/en/latest/advanced-usage.html#ssl-warnings\n",
      "  InsecureRequestWarning,\n",
      "/opt/anaconda3/lib/python3.7/site-packages/urllib3/connectionpool.py:1004: InsecureRequestWarning: Unverified HTTPS request is being made to host 'www.legco.gov.hk'. Adding certificate verification is strongly advised. See: https://urllib3.readthedocs.io/en/latest/advanced-usage.html#ssl-warnings\n",
      "  InsecureRequestWarning,\n"
     ]
    },
    {
     "name": "stdout",
     "output_type": "stream",
     "text": [
      "4\n"
     ]
    },
    {
     "name": "stderr",
     "output_type": "stream",
     "text": [
      "/opt/anaconda3/lib/python3.7/site-packages/urllib3/connectionpool.py:1004: InsecureRequestWarning: Unverified HTTPS request is being made to host 'www.legco.gov.hk'. Adding certificate verification is strongly advised. See: https://urllib3.readthedocs.io/en/latest/advanced-usage.html#ssl-warnings\n",
      "  InsecureRequestWarning,\n",
      "/opt/anaconda3/lib/python3.7/site-packages/urllib3/connectionpool.py:1004: InsecureRequestWarning: Unverified HTTPS request is being made to host 'www.legco.gov.hk'. Adding certificate verification is strongly advised. See: https://urllib3.readthedocs.io/en/latest/advanced-usage.html#ssl-warnings\n",
      "  InsecureRequestWarning,\n",
      "/opt/anaconda3/lib/python3.7/site-packages/urllib3/connectionpool.py:1004: InsecureRequestWarning: Unverified HTTPS request is being made to host 'www.legco.gov.hk'. Adding certificate verification is strongly advised. See: https://urllib3.readthedocs.io/en/latest/advanced-usage.html#ssl-warnings\n",
      "  InsecureRequestWarning,\n",
      "/opt/anaconda3/lib/python3.7/site-packages/urllib3/connectionpool.py:1004: InsecureRequestWarning: Unverified HTTPS request is being made to host 'www.legco.gov.hk'. Adding certificate verification is strongly advised. See: https://urllib3.readthedocs.io/en/latest/advanced-usage.html#ssl-warnings\n",
      "  InsecureRequestWarning,\n",
      "/opt/anaconda3/lib/python3.7/site-packages/urllib3/connectionpool.py:1004: InsecureRequestWarning: Unverified HTTPS request is being made to host 'www.legco.gov.hk'. Adding certificate verification is strongly advised. See: https://urllib3.readthedocs.io/en/latest/advanced-usage.html#ssl-warnings\n",
      "  InsecureRequestWarning,\n",
      "/opt/anaconda3/lib/python3.7/site-packages/urllib3/connectionpool.py:1004: InsecureRequestWarning: Unverified HTTPS request is being made to host 'www.legco.gov.hk'. Adding certificate verification is strongly advised. See: https://urllib3.readthedocs.io/en/latest/advanced-usage.html#ssl-warnings\n",
      "  InsecureRequestWarning,\n"
     ]
    },
    {
     "name": "stdout",
     "output_type": "stream",
     "text": [
      "5\n"
     ]
    },
    {
     "name": "stderr",
     "output_type": "stream",
     "text": [
      "/opt/anaconda3/lib/python3.7/site-packages/urllib3/connectionpool.py:1004: InsecureRequestWarning: Unverified HTTPS request is being made to host 'www.legco.gov.hk'. Adding certificate verification is strongly advised. See: https://urllib3.readthedocs.io/en/latest/advanced-usage.html#ssl-warnings\n",
      "  InsecureRequestWarning,\n",
      "/opt/anaconda3/lib/python3.7/site-packages/urllib3/connectionpool.py:1004: InsecureRequestWarning: Unverified HTTPS request is being made to host 'www.legco.gov.hk'. Adding certificate verification is strongly advised. See: https://urllib3.readthedocs.io/en/latest/advanced-usage.html#ssl-warnings\n",
      "  InsecureRequestWarning,\n",
      "/opt/anaconda3/lib/python3.7/site-packages/urllib3/connectionpool.py:1004: InsecureRequestWarning: Unverified HTTPS request is being made to host 'www.legco.gov.hk'. Adding certificate verification is strongly advised. See: https://urllib3.readthedocs.io/en/latest/advanced-usage.html#ssl-warnings\n",
      "  InsecureRequestWarning,\n",
      "/opt/anaconda3/lib/python3.7/site-packages/urllib3/connectionpool.py:1004: InsecureRequestWarning: Unverified HTTPS request is being made to host 'www.legco.gov.hk'. Adding certificate verification is strongly advised. See: https://urllib3.readthedocs.io/en/latest/advanced-usage.html#ssl-warnings\n",
      "  InsecureRequestWarning,\n",
      "/opt/anaconda3/lib/python3.7/site-packages/urllib3/connectionpool.py:1004: InsecureRequestWarning: Unverified HTTPS request is being made to host 'www.legco.gov.hk'. Adding certificate verification is strongly advised. See: https://urllib3.readthedocs.io/en/latest/advanced-usage.html#ssl-warnings\n",
      "  InsecureRequestWarning,\n",
      "/opt/anaconda3/lib/python3.7/site-packages/urllib3/connectionpool.py:1004: InsecureRequestWarning: Unverified HTTPS request is being made to host 'www.legco.gov.hk'. Adding certificate verification is strongly advised. See: https://urllib3.readthedocs.io/en/latest/advanced-usage.html#ssl-warnings\n",
      "  InsecureRequestWarning,\n"
     ]
    },
    {
     "name": "stdout",
     "output_type": "stream",
     "text": [
      "6\n"
     ]
    },
    {
     "name": "stderr",
     "output_type": "stream",
     "text": [
      "/opt/anaconda3/lib/python3.7/site-packages/urllib3/connectionpool.py:1004: InsecureRequestWarning: Unverified HTTPS request is being made to host 'www.legco.gov.hk'. Adding certificate verification is strongly advised. See: https://urllib3.readthedocs.io/en/latest/advanced-usage.html#ssl-warnings\n",
      "  InsecureRequestWarning,\n",
      "/opt/anaconda3/lib/python3.7/site-packages/urllib3/connectionpool.py:1004: InsecureRequestWarning: Unverified HTTPS request is being made to host 'www.legco.gov.hk'. Adding certificate verification is strongly advised. See: https://urllib3.readthedocs.io/en/latest/advanced-usage.html#ssl-warnings\n",
      "  InsecureRequestWarning,\n",
      "/opt/anaconda3/lib/python3.7/site-packages/urllib3/connectionpool.py:1004: InsecureRequestWarning: Unverified HTTPS request is being made to host 'www.legco.gov.hk'. Adding certificate verification is strongly advised. See: https://urllib3.readthedocs.io/en/latest/advanced-usage.html#ssl-warnings\n",
      "  InsecureRequestWarning,\n",
      "/opt/anaconda3/lib/python3.7/site-packages/urllib3/connectionpool.py:1004: InsecureRequestWarning: Unverified HTTPS request is being made to host 'www.legco.gov.hk'. Adding certificate verification is strongly advised. See: https://urllib3.readthedocs.io/en/latest/advanced-usage.html#ssl-warnings\n",
      "  InsecureRequestWarning,\n",
      "/opt/anaconda3/lib/python3.7/site-packages/urllib3/connectionpool.py:1004: InsecureRequestWarning: Unverified HTTPS request is being made to host 'www.legco.gov.hk'. Adding certificate verification is strongly advised. See: https://urllib3.readthedocs.io/en/latest/advanced-usage.html#ssl-warnings\n",
      "  InsecureRequestWarning,\n",
      "/opt/anaconda3/lib/python3.7/site-packages/urllib3/connectionpool.py:1004: InsecureRequestWarning: Unverified HTTPS request is being made to host 'www.legco.gov.hk'. Adding certificate verification is strongly advised. See: https://urllib3.readthedocs.io/en/latest/advanced-usage.html#ssl-warnings\n",
      "  InsecureRequestWarning,\n",
      "/opt/anaconda3/lib/python3.7/site-packages/urllib3/connectionpool.py:1004: InsecureRequestWarning: Unverified HTTPS request is being made to host 'www.legco.gov.hk'. Adding certificate verification is strongly advised. See: https://urllib3.readthedocs.io/en/latest/advanced-usage.html#ssl-warnings\n",
      "  InsecureRequestWarning,\n"
     ]
    },
    {
     "name": "stdout",
     "output_type": "stream",
     "text": [
      "7\n"
     ]
    },
    {
     "name": "stderr",
     "output_type": "stream",
     "text": [
      "/opt/anaconda3/lib/python3.7/site-packages/urllib3/connectionpool.py:1004: InsecureRequestWarning: Unverified HTTPS request is being made to host 'www.legco.gov.hk'. Adding certificate verification is strongly advised. See: https://urllib3.readthedocs.io/en/latest/advanced-usage.html#ssl-warnings\n",
      "  InsecureRequestWarning,\n",
      "/opt/anaconda3/lib/python3.7/site-packages/urllib3/connectionpool.py:1004: InsecureRequestWarning: Unverified HTTPS request is being made to host 'www.legco.gov.hk'. Adding certificate verification is strongly advised. See: https://urllib3.readthedocs.io/en/latest/advanced-usage.html#ssl-warnings\n",
      "  InsecureRequestWarning,\n",
      "/opt/anaconda3/lib/python3.7/site-packages/urllib3/connectionpool.py:1004: InsecureRequestWarning: Unverified HTTPS request is being made to host 'www.legco.gov.hk'. Adding certificate verification is strongly advised. See: https://urllib3.readthedocs.io/en/latest/advanced-usage.html#ssl-warnings\n",
      "  InsecureRequestWarning,\n",
      "/opt/anaconda3/lib/python3.7/site-packages/urllib3/connectionpool.py:1004: InsecureRequestWarning: Unverified HTTPS request is being made to host 'www.legco.gov.hk'. Adding certificate verification is strongly advised. See: https://urllib3.readthedocs.io/en/latest/advanced-usage.html#ssl-warnings\n",
      "  InsecureRequestWarning,\n",
      "/opt/anaconda3/lib/python3.7/site-packages/urllib3/connectionpool.py:1004: InsecureRequestWarning: Unverified HTTPS request is being made to host 'www.legco.gov.hk'. Adding certificate verification is strongly advised. See: https://urllib3.readthedocs.io/en/latest/advanced-usage.html#ssl-warnings\n",
      "  InsecureRequestWarning,\n",
      "/opt/anaconda3/lib/python3.7/site-packages/urllib3/connectionpool.py:1004: InsecureRequestWarning: Unverified HTTPS request is being made to host 'www.legco.gov.hk'. Adding certificate verification is strongly advised. See: https://urllib3.readthedocs.io/en/latest/advanced-usage.html#ssl-warnings\n",
      "  InsecureRequestWarning,\n",
      "/opt/anaconda3/lib/python3.7/site-packages/urllib3/connectionpool.py:1004: InsecureRequestWarning: Unverified HTTPS request is being made to host 'www.legco.gov.hk'. Adding certificate verification is strongly advised. See: https://urllib3.readthedocs.io/en/latest/advanced-usage.html#ssl-warnings\n",
      "  InsecureRequestWarning,\n"
     ]
    },
    {
     "name": "stdout",
     "output_type": "stream",
     "text": [
      "8\n"
     ]
    },
    {
     "name": "stderr",
     "output_type": "stream",
     "text": [
      "/opt/anaconda3/lib/python3.7/site-packages/urllib3/connectionpool.py:1004: InsecureRequestWarning: Unverified HTTPS request is being made to host 'www.legco.gov.hk'. Adding certificate verification is strongly advised. See: https://urllib3.readthedocs.io/en/latest/advanced-usage.html#ssl-warnings\n",
      "  InsecureRequestWarning,\n",
      "/opt/anaconda3/lib/python3.7/site-packages/urllib3/connectionpool.py:1004: InsecureRequestWarning: Unverified HTTPS request is being made to host 'www.legco.gov.hk'. Adding certificate verification is strongly advised. See: https://urllib3.readthedocs.io/en/latest/advanced-usage.html#ssl-warnings\n",
      "  InsecureRequestWarning,\n",
      "/opt/anaconda3/lib/python3.7/site-packages/urllib3/connectionpool.py:1004: InsecureRequestWarning: Unverified HTTPS request is being made to host 'www.legco.gov.hk'. Adding certificate verification is strongly advised. See: https://urllib3.readthedocs.io/en/latest/advanced-usage.html#ssl-warnings\n",
      "  InsecureRequestWarning,\n",
      "/opt/anaconda3/lib/python3.7/site-packages/urllib3/connectionpool.py:1004: InsecureRequestWarning: Unverified HTTPS request is being made to host 'www.legco.gov.hk'. Adding certificate verification is strongly advised. See: https://urllib3.readthedocs.io/en/latest/advanced-usage.html#ssl-warnings\n",
      "  InsecureRequestWarning,\n",
      "/opt/anaconda3/lib/python3.7/site-packages/urllib3/connectionpool.py:1004: InsecureRequestWarning: Unverified HTTPS request is being made to host 'www.legco.gov.hk'. Adding certificate verification is strongly advised. See: https://urllib3.readthedocs.io/en/latest/advanced-usage.html#ssl-warnings\n",
      "  InsecureRequestWarning,\n"
     ]
    },
    {
     "name": "stdout",
     "output_type": "stream",
     "text": [
      "9\n"
     ]
    },
    {
     "name": "stderr",
     "output_type": "stream",
     "text": [
      "/opt/anaconda3/lib/python3.7/site-packages/urllib3/connectionpool.py:1004: InsecureRequestWarning: Unverified HTTPS request is being made to host 'www.legco.gov.hk'. Adding certificate verification is strongly advised. See: https://urllib3.readthedocs.io/en/latest/advanced-usage.html#ssl-warnings\n",
      "  InsecureRequestWarning,\n",
      "/opt/anaconda3/lib/python3.7/site-packages/urllib3/connectionpool.py:1004: InsecureRequestWarning: Unverified HTTPS request is being made to host 'www.legco.gov.hk'. Adding certificate verification is strongly advised. See: https://urllib3.readthedocs.io/en/latest/advanced-usage.html#ssl-warnings\n",
      "  InsecureRequestWarning,\n",
      "/opt/anaconda3/lib/python3.7/site-packages/urllib3/connectionpool.py:1004: InsecureRequestWarning: Unverified HTTPS request is being made to host 'www.legco.gov.hk'. Adding certificate verification is strongly advised. See: https://urllib3.readthedocs.io/en/latest/advanced-usage.html#ssl-warnings\n",
      "  InsecureRequestWarning,\n",
      "/opt/anaconda3/lib/python3.7/site-packages/urllib3/connectionpool.py:1004: InsecureRequestWarning: Unverified HTTPS request is being made to host 'www.legco.gov.hk'. Adding certificate verification is strongly advised. See: https://urllib3.readthedocs.io/en/latest/advanced-usage.html#ssl-warnings\n",
      "  InsecureRequestWarning,\n",
      "/opt/anaconda3/lib/python3.7/site-packages/urllib3/connectionpool.py:1004: InsecureRequestWarning: Unverified HTTPS request is being made to host 'www.legco.gov.hk'. Adding certificate verification is strongly advised. See: https://urllib3.readthedocs.io/en/latest/advanced-usage.html#ssl-warnings\n",
      "  InsecureRequestWarning,\n",
      "/opt/anaconda3/lib/python3.7/site-packages/urllib3/connectionpool.py:1004: InsecureRequestWarning: Unverified HTTPS request is being made to host 'www.legco.gov.hk'. Adding certificate verification is strongly advised. See: https://urllib3.readthedocs.io/en/latest/advanced-usage.html#ssl-warnings\n",
      "  InsecureRequestWarning,\n"
     ]
    },
    {
     "name": "stdout",
     "output_type": "stream",
     "text": [
      "10\n"
     ]
    },
    {
     "name": "stderr",
     "output_type": "stream",
     "text": [
      "/opt/anaconda3/lib/python3.7/site-packages/urllib3/connectionpool.py:1004: InsecureRequestWarning: Unverified HTTPS request is being made to host 'www.legco.gov.hk'. Adding certificate verification is strongly advised. See: https://urllib3.readthedocs.io/en/latest/advanced-usage.html#ssl-warnings\n",
      "  InsecureRequestWarning,\n",
      "/opt/anaconda3/lib/python3.7/site-packages/urllib3/connectionpool.py:1004: InsecureRequestWarning: Unverified HTTPS request is being made to host 'www.legco.gov.hk'. Adding certificate verification is strongly advised. See: https://urllib3.readthedocs.io/en/latest/advanced-usage.html#ssl-warnings\n",
      "  InsecureRequestWarning,\n",
      "/opt/anaconda3/lib/python3.7/site-packages/urllib3/connectionpool.py:1004: InsecureRequestWarning: Unverified HTTPS request is being made to host 'www.legco.gov.hk'. Adding certificate verification is strongly advised. See: https://urllib3.readthedocs.io/en/latest/advanced-usage.html#ssl-warnings\n",
      "  InsecureRequestWarning,\n"
     ]
    },
    {
     "name": "stdout",
     "output_type": "stream",
     "text": [
      "11\n"
     ]
    },
    {
     "name": "stderr",
     "output_type": "stream",
     "text": [
      "/opt/anaconda3/lib/python3.7/site-packages/urllib3/connectionpool.py:1004: InsecureRequestWarning: Unverified HTTPS request is being made to host 'www.legco.gov.hk'. Adding certificate verification is strongly advised. See: https://urllib3.readthedocs.io/en/latest/advanced-usage.html#ssl-warnings\n",
      "  InsecureRequestWarning,\n",
      "/opt/anaconda3/lib/python3.7/site-packages/urllib3/connectionpool.py:1004: InsecureRequestWarning: Unverified HTTPS request is being made to host 'www.legco.gov.hk'. Adding certificate verification is strongly advised. See: https://urllib3.readthedocs.io/en/latest/advanced-usage.html#ssl-warnings\n",
      "  InsecureRequestWarning,\n",
      "/opt/anaconda3/lib/python3.7/site-packages/urllib3/connectionpool.py:1004: InsecureRequestWarning: Unverified HTTPS request is being made to host 'www.legco.gov.hk'. Adding certificate verification is strongly advised. See: https://urllib3.readthedocs.io/en/latest/advanced-usage.html#ssl-warnings\n",
      "  InsecureRequestWarning,\n",
      "/opt/anaconda3/lib/python3.7/site-packages/urllib3/connectionpool.py:1004: InsecureRequestWarning: Unverified HTTPS request is being made to host 'www.legco.gov.hk'. Adding certificate verification is strongly advised. See: https://urllib3.readthedocs.io/en/latest/advanced-usage.html#ssl-warnings\n",
      "  InsecureRequestWarning,\n",
      "/opt/anaconda3/lib/python3.7/site-packages/urllib3/connectionpool.py:1004: InsecureRequestWarning: Unverified HTTPS request is being made to host 'www.legco.gov.hk'. Adding certificate verification is strongly advised. See: https://urllib3.readthedocs.io/en/latest/advanced-usage.html#ssl-warnings\n",
      "  InsecureRequestWarning,\n",
      "/opt/anaconda3/lib/python3.7/site-packages/urllib3/connectionpool.py:1004: InsecureRequestWarning: Unverified HTTPS request is being made to host 'www.legco.gov.hk'. Adding certificate verification is strongly advised. See: https://urllib3.readthedocs.io/en/latest/advanced-usage.html#ssl-warnings\n",
      "  InsecureRequestWarning,\n"
     ]
    },
    {
     "name": "stdout",
     "output_type": "stream",
     "text": [
      "12\n"
     ]
    },
    {
     "name": "stderr",
     "output_type": "stream",
     "text": [
      "/opt/anaconda3/lib/python3.7/site-packages/urllib3/connectionpool.py:1004: InsecureRequestWarning: Unverified HTTPS request is being made to host 'www.legco.gov.hk'. Adding certificate verification is strongly advised. See: https://urllib3.readthedocs.io/en/latest/advanced-usage.html#ssl-warnings\n",
      "  InsecureRequestWarning,\n",
      "/opt/anaconda3/lib/python3.7/site-packages/urllib3/connectionpool.py:1004: InsecureRequestWarning: Unverified HTTPS request is being made to host 'www.legco.gov.hk'. Adding certificate verification is strongly advised. See: https://urllib3.readthedocs.io/en/latest/advanced-usage.html#ssl-warnings\n",
      "  InsecureRequestWarning,\n",
      "/opt/anaconda3/lib/python3.7/site-packages/urllib3/connectionpool.py:1004: InsecureRequestWarning: Unverified HTTPS request is being made to host 'www.legco.gov.hk'. Adding certificate verification is strongly advised. See: https://urllib3.readthedocs.io/en/latest/advanced-usage.html#ssl-warnings\n",
      "  InsecureRequestWarning,\n",
      "/opt/anaconda3/lib/python3.7/site-packages/urllib3/connectionpool.py:1004: InsecureRequestWarning: Unverified HTTPS request is being made to host 'www.legco.gov.hk'. Adding certificate verification is strongly advised. See: https://urllib3.readthedocs.io/en/latest/advanced-usage.html#ssl-warnings\n",
      "  InsecureRequestWarning,\n",
      "/opt/anaconda3/lib/python3.7/site-packages/urllib3/connectionpool.py:1004: InsecureRequestWarning: Unverified HTTPS request is being made to host 'www.legco.gov.hk'. Adding certificate verification is strongly advised. See: https://urllib3.readthedocs.io/en/latest/advanced-usage.html#ssl-warnings\n",
      "  InsecureRequestWarning,\n"
     ]
    },
    {
     "name": "stdout",
     "output_type": "stream",
     "text": [
      "13\n"
     ]
    },
    {
     "name": "stderr",
     "output_type": "stream",
     "text": [
      "/opt/anaconda3/lib/python3.7/site-packages/urllib3/connectionpool.py:1004: InsecureRequestWarning: Unverified HTTPS request is being made to host 'www.legco.gov.hk'. Adding certificate verification is strongly advised. See: https://urllib3.readthedocs.io/en/latest/advanced-usage.html#ssl-warnings\n",
      "  InsecureRequestWarning,\n",
      "/opt/anaconda3/lib/python3.7/site-packages/urllib3/connectionpool.py:1004: InsecureRequestWarning: Unverified HTTPS request is being made to host 'www.legco.gov.hk'. Adding certificate verification is strongly advised. See: https://urllib3.readthedocs.io/en/latest/advanced-usage.html#ssl-warnings\n",
      "  InsecureRequestWarning,\n",
      "/opt/anaconda3/lib/python3.7/site-packages/urllib3/connectionpool.py:1004: InsecureRequestWarning: Unverified HTTPS request is being made to host 'www.legco.gov.hk'. Adding certificate verification is strongly advised. See: https://urllib3.readthedocs.io/en/latest/advanced-usage.html#ssl-warnings\n",
      "  InsecureRequestWarning,\n",
      "/opt/anaconda3/lib/python3.7/site-packages/urllib3/connectionpool.py:1004: InsecureRequestWarning: Unverified HTTPS request is being made to host 'www.legco.gov.hk'. Adding certificate verification is strongly advised. See: https://urllib3.readthedocs.io/en/latest/advanced-usage.html#ssl-warnings\n",
      "  InsecureRequestWarning,\n",
      "/opt/anaconda3/lib/python3.7/site-packages/urllib3/connectionpool.py:1004: InsecureRequestWarning: Unverified HTTPS request is being made to host 'www.legco.gov.hk'. Adding certificate verification is strongly advised. See: https://urllib3.readthedocs.io/en/latest/advanced-usage.html#ssl-warnings\n",
      "  InsecureRequestWarning,\n",
      "/opt/anaconda3/lib/python3.7/site-packages/urllib3/connectionpool.py:1004: InsecureRequestWarning: Unverified HTTPS request is being made to host 'www.legco.gov.hk'. Adding certificate verification is strongly advised. See: https://urllib3.readthedocs.io/en/latest/advanced-usage.html#ssl-warnings\n",
      "  InsecureRequestWarning,\n"
     ]
    }
   ],
   "source": [
    "y='https://www.legco.gov.hk/yr19-20/english/bc/bc1920.htm'\n",
    "url=y\n",
    "table_01=committee_to_table_first_layer(url)\n",
    "meeting_list=[]\n",
    "paper_list=[]\n",
    "report_list=[]\n",
    "for i in range(len(committee_to_table_first_layer(url)['url'])):\n",
    "    print(i)\n",
    "    url_1=committee_to_table_first_layer(url)['url'][i]\n",
    "    meeting_list.append(url_to_table_second(url_1)[0])\n",
    "    paper_list.append(url_to_table_second(url_1)[1])\n",
    "    report_list.append(url_to_table_second(url_1)[2])\n",
    "meeting_table=combine_table_general_cat(table_01,meeting_list)\n",
    "paper_table=combine_table_general_cat(table_01,paper_list)\n",
    "report_table=combine_table_general_cat(table_01,report_list)\n",
    "paper_table=paper_table.reset_index()\n",
    "paper_list_2=[]\n",
    "for i in range(len(paper_table['paper_url'])):\n",
    "    print(i)\n",
    "    url_2=paper_table['paper_url'][i]\n",
    "    url=url_2\n",
    "    paper_list_2.append(url_subcom_table_paper(url))\n",
    "paper_final_table=combine_table_paper_2(paper_table,paper_list_2)\n",
    "paper_final_table.rename(columns={0:'committee_name',1:'committee_url',2:'committee_paper_url',3:'paper_category',4:'paper_category_url',5:'LC_paper_no',6:'paper_name',7:'paper_url',8:'date',9:'remarks'},inplace=True)"
   ]
  },
  {
   "cell_type": "code",
   "execution_count": 204,
   "metadata": {
    "scrolled": true
   },
   "outputs": [
    {
     "data": {
      "text/html": [
       "<div>\n",
       "<style scoped>\n",
       "    .dataframe tbody tr th:only-of-type {\n",
       "        vertical-align: middle;\n",
       "    }\n",
       "\n",
       "    .dataframe tbody tr th {\n",
       "        vertical-align: top;\n",
       "    }\n",
       "\n",
       "    .dataframe thead th {\n",
       "        text-align: right;\n",
       "    }\n",
       "</style>\n",
       "<table border=\"1\" class=\"dataframe\">\n",
       "  <thead>\n",
       "    <tr style=\"text-align: right;\">\n",
       "      <th></th>\n",
       "      <th>committee_name</th>\n",
       "      <th>committee_url</th>\n",
       "      <th>report_name</th>\n",
       "      <th>url</th>\n",
       "      <th>remarks</th>\n",
       "    </tr>\n",
       "  </thead>\n",
       "  <tbody>\n",
       "    <tr>\n",
       "      <th>0</th>\n",
       "      <td>Broadcasting and Telecommunications Legislatio...</td>\n",
       "      <td>https://www.legco.gov.hk/yr18-19/english/bc/bc...</td>\n",
       "      <td>Issued for the House Committee meeting on 29 M...</td>\n",
       "      <td>https://www.legco.gov.hk/yr19-20/english/hc/pa...</td>\n",
       "      <td>[CB(1)656/19-20]</td>\n",
       "    </tr>\n",
       "    <tr>\n",
       "      <th>0</th>\n",
       "      <td>Discrimination Legislation (Miscellaneous Amen...</td>\n",
       "      <td>https://www.legco.gov.hk/yr18-19/english/bc/bc...</td>\n",
       "      <td>Issued for the House Committee meeting on 8 Ma...</td>\n",
       "      <td>https://www.legco.gov.hk/yr19-20/english/hc/pa...</td>\n",
       "      <td>[CB(2)918/19-20]</td>\n",
       "    </tr>\n",
       "    <tr>\n",
       "      <th>1</th>\n",
       "      <td>Discrimination Legislation (Miscellaneous Amen...</td>\n",
       "      <td>https://www.legco.gov.hk/yr18-19/english/bc/bc...</td>\n",
       "      <td>Tabled at the Legislative Council on 27 May 2020</td>\n",
       "      <td>https://www.legco.gov.hk/reports/bc5220200527c...</td>\n",
       "      <td>[CB(2)1018/19-20]</td>\n",
       "    </tr>\n",
       "    <tr>\n",
       "      <th>0</th>\n",
       "      <td>Evidence (Amendment) Bill 2018</td>\n",
       "      <td>https://www.legco.gov.hk/yr17-18/english/bc/bc...</td>\n",
       "      <td>Issued for the House Committee meeting on 5 Ju...</td>\n",
       "      <td>https://www.legco.gov.hk/yr19-20/english/hc/pa...</td>\n",
       "      <td>[CB(4)663/19-20]</td>\n",
       "    </tr>\n",
       "    <tr>\n",
       "      <th>0</th>\n",
       "      <td>Fire Safety (Industrial Buildings) Bill</td>\n",
       "      <td>https://www.legco.gov.hk/yr18-19/english/bc/bc...</td>\n",
       "      <td>Issued for the House Committee meeting on 8 Ma...</td>\n",
       "      <td>https://www.legco.gov.hk/yr19-20/english/hc/pa...</td>\n",
       "      <td>[CB(2)920/19-20]</td>\n",
       "    </tr>\n",
       "    <tr>\n",
       "      <th>1</th>\n",
       "      <td>Fire Safety (Industrial Buildings) Bill</td>\n",
       "      <td>https://www.legco.gov.hk/yr18-19/english/bc/bc...</td>\n",
       "      <td>Tabled at the Legislative Council on 27 May 2020</td>\n",
       "      <td>https://www.legco.gov.hk/reports/bc5120200527c...</td>\n",
       "      <td>[CB(2)1024/19-20]</td>\n",
       "    </tr>\n",
       "    <tr>\n",
       "      <th>0</th>\n",
       "      <td>Franchised Taxi Services Bill</td>\n",
       "      <td>https://www.legco.gov.hk/yr18-19/english/bc/bc...</td>\n",
       "      <td>Issued for the House Committee meeting on 19 J...</td>\n",
       "      <td>https://www.legco.gov.hk/yr19-20/english/hc/pa...</td>\n",
       "      <td>[CB(4)717/19-20]</td>\n",
       "    </tr>\n",
       "    <tr>\n",
       "      <th>0</th>\n",
       "      <td>Hotel and Guesthouse Accommodation (Amendment)...</td>\n",
       "      <td>https://www.legco.gov.hk/yr17-18/english/bc/bc...</td>\n",
       "      <td>Issued for the House Committee meeting on 8 Ma...</td>\n",
       "      <td>https://www.legco.gov.hk/yr19-20/english/hc/pa...</td>\n",
       "      <td>[CB(2)917/19-20]</td>\n",
       "    </tr>\n",
       "    <tr>\n",
       "      <th>1</th>\n",
       "      <td>Hotel and Guesthouse Accommodation (Amendment)...</td>\n",
       "      <td>https://www.legco.gov.hk/yr17-18/english/bc/bc...</td>\n",
       "      <td>Tabled at the Legislative Council on 27 May 2020</td>\n",
       "      <td>https://www.legco.gov.hk/reports/bc5520200527c...</td>\n",
       "      <td>[CB(2)1008/19-20]</td>\n",
       "    </tr>\n",
       "    <tr>\n",
       "      <th>0</th>\n",
       "      <td>Mandatory Provident Fund Schemes (Amendment) B...</td>\n",
       "      <td>https://www.legco.gov.hk/yr19-20/english/bc/bc...</td>\n",
       "      <td>Issued for the House Committee meeting on 12 J...</td>\n",
       "      <td>https://www.legco.gov.hk/yr19-20/english/hc/pa...</td>\n",
       "      <td>[CB(1)740/19-20]</td>\n",
       "    </tr>\n",
       "    <tr>\n",
       "      <th>1</th>\n",
       "      <td>Mandatory Provident Fund Schemes (Amendment) B...</td>\n",
       "      <td>https://www.legco.gov.hk/yr19-20/english/bc/bc...</td>\n",
       "      <td>Tabled at the Legislative Council on 8 July 2020</td>\n",
       "      <td>https://www.legco.gov.hk/reports/bc0120200708c...</td>\n",
       "      <td>[CB(1)817/19-20]</td>\n",
       "    </tr>\n",
       "    <tr>\n",
       "      <th>0</th>\n",
       "      <td>Occupational Retirement Schemes (Amendment) Bi...</td>\n",
       "      <td>https://www.legco.gov.hk/yr18-19/english/bc/bc...</td>\n",
       "      <td>Issued for the House Committee meeting on 8 Ma...</td>\n",
       "      <td>https://www.legco.gov.hk/yr19-20/english/hc/pa...</td>\n",
       "      <td>[CB(1)592/19-20]</td>\n",
       "    </tr>\n",
       "    <tr>\n",
       "      <th>1</th>\n",
       "      <td>Occupational Retirement Schemes (Amendment) Bi...</td>\n",
       "      <td>https://www.legco.gov.hk/yr18-19/english/bc/bc...</td>\n",
       "      <td>Tabled at the Legislative Council on 27 May 2020</td>\n",
       "      <td>https://www.legco.gov.hk/reports/bc1020200527c...</td>\n",
       "      <td>[CB(1)639/19-20]</td>\n",
       "    </tr>\n",
       "    <tr>\n",
       "      <th>0</th>\n",
       "      <td>Pharmacy and Poisons (Amendment) Bill 2019</td>\n",
       "      <td>https://www.legco.gov.hk/yr19-20/english/bc/bc...</td>\n",
       "      <td>Issued for the House Committee meeting on 12 J...</td>\n",
       "      <td>https://www.legco.gov.hk/yr19-20/english/hc/pa...</td>\n",
       "      <td>[CB(2)1172/19-20]</td>\n",
       "    </tr>\n",
       "    <tr>\n",
       "      <th>1</th>\n",
       "      <td>Pharmacy and Poisons (Amendment) Bill 2019</td>\n",
       "      <td>https://www.legco.gov.hk/yr19-20/english/bc/bc...</td>\n",
       "      <td>Tabled at the Legislative Council on 8 July 2020</td>\n",
       "      <td>https://www.legco.gov.hk/reports/bc5120200708c...</td>\n",
       "      <td>[CB(2)1277/19-20]</td>\n",
       "    </tr>\n",
       "    <tr>\n",
       "      <th>0</th>\n",
       "      <td>Rating (Amendment) Bill 2019</td>\n",
       "      <td>https://www.legco.gov.hk/yr19-20/english/bc/bc...</td>\n",
       "      <td>Issued for the House Committee meeting on 10 J...</td>\n",
       "      <td>https://www.legco.gov.hk/yr19-20/english/hc/pa...</td>\n",
       "      <td>[CB(1)845/19-20]</td>\n",
       "    </tr>\n",
       "    <tr>\n",
       "      <th>0</th>\n",
       "      <td>Road Traffic Legislation (Parking Spaces) (Ame...</td>\n",
       "      <td>https://www.legco.gov.hk/yr19-20/english/bc/bc...</td>\n",
       "      <td>Issued for the House Committee meeting on 12 J...</td>\n",
       "      <td>https://www.legco.gov.hk/yr19-20/english/hc/pa...</td>\n",
       "      <td>[CB(4)689/19-20]</td>\n",
       "    </tr>\n",
       "    <tr>\n",
       "      <th>0</th>\n",
       "      <td>Smoking (Public Health) (Amendment) Bill 2019</td>\n",
       "      <td>https://www.legco.gov.hk/yr18-19/english/bc/bc...</td>\n",
       "      <td>Issued for the House Committee meeting on 3 Ju...</td>\n",
       "      <td>https://www.legco.gov.hk/yr19-20/english/hc/pa...</td>\n",
       "      <td>[CB(2)1267/19-20]</td>\n",
       "    </tr>\n",
       "    <tr>\n",
       "      <th>0</th>\n",
       "      <td>Statute Law (Miscellaneous Provisions) Bill 2019</td>\n",
       "      <td>https://www.legco.gov.hk/yr19-20/english/bc/bc...</td>\n",
       "      <td>Issued for the House Committee meeting on 19 J...</td>\n",
       "      <td>https://www.legco.gov.hk/yr19-20/english/hc/pa...</td>\n",
       "      <td>[CB(4)714/19-20]</td>\n",
       "    </tr>\n",
       "    <tr>\n",
       "      <th>0</th>\n",
       "      <td>Waste Disposal (Charging for Municipal Solid W...</td>\n",
       "      <td>https://www.legco.gov.hk/yr18-19/english/bc/bc...</td>\n",
       "      <td>Issued for the House Committee meeting on 10 J...</td>\n",
       "      <td>https://www.legco.gov.hk/yr19-20/english/hc/pa...</td>\n",
       "      <td>[CB(1)849/19-20]</td>\n",
       "    </tr>\n",
       "  </tbody>\n",
       "</table>\n",
       "</div>"
      ],
      "text/plain": [
       "                                      committee_name  \\\n",
       "0  Broadcasting and Telecommunications Legislatio...   \n",
       "0  Discrimination Legislation (Miscellaneous Amen...   \n",
       "1  Discrimination Legislation (Miscellaneous Amen...   \n",
       "0                     Evidence (Amendment) Bill 2018   \n",
       "0            Fire Safety (Industrial Buildings) Bill   \n",
       "1            Fire Safety (Industrial Buildings) Bill   \n",
       "0                      Franchised Taxi Services Bill   \n",
       "0  Hotel and Guesthouse Accommodation (Amendment)...   \n",
       "1  Hotel and Guesthouse Accommodation (Amendment)...   \n",
       "0  Mandatory Provident Fund Schemes (Amendment) B...   \n",
       "1  Mandatory Provident Fund Schemes (Amendment) B...   \n",
       "0  Occupational Retirement Schemes (Amendment) Bi...   \n",
       "1  Occupational Retirement Schemes (Amendment) Bi...   \n",
       "0         Pharmacy and Poisons (Amendment) Bill 2019   \n",
       "1         Pharmacy and Poisons (Amendment) Bill 2019   \n",
       "0                       Rating (Amendment) Bill 2019   \n",
       "0  Road Traffic Legislation (Parking Spaces) (Ame...   \n",
       "0      Smoking (Public Health) (Amendment) Bill 2019   \n",
       "0   Statute Law (Miscellaneous Provisions) Bill 2019   \n",
       "0  Waste Disposal (Charging for Municipal Solid W...   \n",
       "\n",
       "                                       committee_url  \\\n",
       "0  https://www.legco.gov.hk/yr18-19/english/bc/bc...   \n",
       "0  https://www.legco.gov.hk/yr18-19/english/bc/bc...   \n",
       "1  https://www.legco.gov.hk/yr18-19/english/bc/bc...   \n",
       "0  https://www.legco.gov.hk/yr17-18/english/bc/bc...   \n",
       "0  https://www.legco.gov.hk/yr18-19/english/bc/bc...   \n",
       "1  https://www.legco.gov.hk/yr18-19/english/bc/bc...   \n",
       "0  https://www.legco.gov.hk/yr18-19/english/bc/bc...   \n",
       "0  https://www.legco.gov.hk/yr17-18/english/bc/bc...   \n",
       "1  https://www.legco.gov.hk/yr17-18/english/bc/bc...   \n",
       "0  https://www.legco.gov.hk/yr19-20/english/bc/bc...   \n",
       "1  https://www.legco.gov.hk/yr19-20/english/bc/bc...   \n",
       "0  https://www.legco.gov.hk/yr18-19/english/bc/bc...   \n",
       "1  https://www.legco.gov.hk/yr18-19/english/bc/bc...   \n",
       "0  https://www.legco.gov.hk/yr19-20/english/bc/bc...   \n",
       "1  https://www.legco.gov.hk/yr19-20/english/bc/bc...   \n",
       "0  https://www.legco.gov.hk/yr19-20/english/bc/bc...   \n",
       "0  https://www.legco.gov.hk/yr19-20/english/bc/bc...   \n",
       "0  https://www.legco.gov.hk/yr18-19/english/bc/bc...   \n",
       "0  https://www.legco.gov.hk/yr19-20/english/bc/bc...   \n",
       "0  https://www.legco.gov.hk/yr18-19/english/bc/bc...   \n",
       "\n",
       "                                         report_name  \\\n",
       "0  Issued for the House Committee meeting on 29 M...   \n",
       "0  Issued for the House Committee meeting on 8 Ma...   \n",
       "1   Tabled at the Legislative Council on 27 May 2020   \n",
       "0  Issued for the House Committee meeting on 5 Ju...   \n",
       "0  Issued for the House Committee meeting on 8 Ma...   \n",
       "1   Tabled at the Legislative Council on 27 May 2020   \n",
       "0  Issued for the House Committee meeting on 19 J...   \n",
       "0  Issued for the House Committee meeting on 8 Ma...   \n",
       "1   Tabled at the Legislative Council on 27 May 2020   \n",
       "0  Issued for the House Committee meeting on 12 J...   \n",
       "1   Tabled at the Legislative Council on 8 July 2020   \n",
       "0  Issued for the House Committee meeting on 8 Ma...   \n",
       "1   Tabled at the Legislative Council on 27 May 2020   \n",
       "0  Issued for the House Committee meeting on 12 J...   \n",
       "1   Tabled at the Legislative Council on 8 July 2020   \n",
       "0  Issued for the House Committee meeting on 10 J...   \n",
       "0  Issued for the House Committee meeting on 12 J...   \n",
       "0  Issued for the House Committee meeting on 3 Ju...   \n",
       "0  Issued for the House Committee meeting on 19 J...   \n",
       "0  Issued for the House Committee meeting on 10 J...   \n",
       "\n",
       "                                                 url            remarks  \n",
       "0  https://www.legco.gov.hk/yr19-20/english/hc/pa...   [CB(1)656/19-20]  \n",
       "0  https://www.legco.gov.hk/yr19-20/english/hc/pa...  [CB(2)918/19-20]   \n",
       "1  https://www.legco.gov.hk/reports/bc5220200527c...  [CB(2)1018/19-20]  \n",
       "0  https://www.legco.gov.hk/yr19-20/english/hc/pa...  [CB(4)663/19-20]   \n",
       "0  https://www.legco.gov.hk/yr19-20/english/hc/pa...   [CB(2)920/19-20]  \n",
       "1  https://www.legco.gov.hk/reports/bc5120200527c...  [CB(2)1024/19-20]  \n",
       "0  https://www.legco.gov.hk/yr19-20/english/hc/pa...   [CB(4)717/19-20]  \n",
       "0  https://www.legco.gov.hk/yr19-20/english/hc/pa...  [CB(2)917/19-20]   \n",
       "1  https://www.legco.gov.hk/reports/bc5520200527c...  [CB(2)1008/19-20]  \n",
       "0  https://www.legco.gov.hk/yr19-20/english/hc/pa...   [CB(1)740/19-20]  \n",
       "1  https://www.legco.gov.hk/reports/bc0120200708c...   [CB(1)817/19-20]  \n",
       "0  https://www.legco.gov.hk/yr19-20/english/hc/pa...  [CB(1)592/19-20]   \n",
       "1  https://www.legco.gov.hk/reports/bc1020200527c...   [CB(1)639/19-20]  \n",
       "0  https://www.legco.gov.hk/yr19-20/english/hc/pa...  [CB(2)1172/19-20]  \n",
       "1  https://www.legco.gov.hk/reports/bc5120200708c...  [CB(2)1277/19-20]  \n",
       "0  https://www.legco.gov.hk/yr19-20/english/hc/pa...   [CB(1)845/19-20]  \n",
       "0  https://www.legco.gov.hk/yr19-20/english/hc/pa...   [CB(4)689/19-20]  \n",
       "0  https://www.legco.gov.hk/yr19-20/english/hc/pa...  [CB(2)1267/19-20]  \n",
       "0  https://www.legco.gov.hk/yr19-20/english/hc/pa...   [CB(4)714/19-20]  \n",
       "0  https://www.legco.gov.hk/yr19-20/english/hc/pa...   [CB(1)849/19-20]  "
      ]
     },
     "execution_count": 204,
     "metadata": {},
     "output_type": "execute_result"
    }
   ],
   "source": [
    "report_table"
   ]
  },
  {
   "cell_type": "code",
   "execution_count": 388,
   "metadata": {},
   "outputs": [],
   "source": [
    "#this can be ignored, already put one in the above\n",
    "def table_transform(x):\n",
    "    output_group=[]\n",
    "    row=x\n",
    "    for i in range(1,len(row)):\n",
    "        print(i)\n",
    "        if row[i].find_all(\"table\")==[]:\n",
    "            #print(row[i].find_all('td'))\n",
    "            if row[i].find_all('td')[0].text!=None:\n",
    "                cell0=row[i].find_all('td')[0].text\n",
    "            else:\n",
    "                cell0=''\n",
    "            if row[i].find_all('td')[1].text!=None:\n",
    "                cell1=row[i].find_all('td')[1].text\n",
    "            else:\n",
    "                cell1=''\n",
    "            if row[i].find_all('td')[1].find('a')!=None:\n",
    "                cell10=generate_tab(row[i].find_all('td')[1].find('a').get(\"href\"))\n",
    "                #cell10=row[i].find_all('td')[1].find('a').get(\"href\")\n",
    "            else:\n",
    "                cell10=''\n",
    "            if date_list(row[i].find_all('td')[2])!=[]:\n",
    "                cell2=date_list(row[i].find_all('td')[2])\n",
    "            else:\n",
    "                cell2=''\n",
    "            if check_for_star(date_list(row[i].find_all('td')[2])):\n",
    "                cell20='* issue day'\n",
    "            else:\n",
    "                cell20=''\n",
    "        else:\n",
    "            if len(row[i].find('table').find_all(\"td\"))!=1:\n",
    "                if row[i].find_all('td')[0].text!=None:\n",
    "                    cell0=row[i].find_all('td')[0].text\n",
    "                else:\n",
    "                    cell0=''\n",
    "                if row[i].find_all('td')[3].text!=None:\n",
    "                    cell1=row[i].find_all('td')[3].text\n",
    "                else:\n",
    "                    cell1=''\n",
    "                if row[i].find_all('td')[3].find('a')!=None:\n",
    "                    cell10=generate_tab(row[i].find_all('td')[3].find('a').get(\"href\"))\n",
    "                    #cell10=row[i].find_all('td')[1].find('a').get(\"href\")\n",
    "                else:\n",
    "                    cell10=''\n",
    "                if date_list(row[i].find_all('td')[4])!=[]:\n",
    "                    cell2=date_list(row[i].find_all('td')[4])\n",
    "                else:\n",
    "                    cell2=''\n",
    "                if check_for_star(date_list(row[i].find_all('td')[4])):\n",
    "                    cell20='* issue day'\n",
    "                else:\n",
    "                    cell20=''\n",
    "            else:\n",
    "                if row[i].find_all('td')[0].text!=None:\n",
    "                    cell0=row[i].find_all('td')[0].text\n",
    "                else:\n",
    "                    cell0=''\n",
    "                if row[i].find_all('td')[1].find('a')!=None:\n",
    "                    cell1=row[i].find_all('td')[1].find('a').text\n",
    "                    cell10=generate_tab(row[i].find_all('td')[1].find('a').get(\"href\"))\n",
    "                else:\n",
    "                    cell1=row[i].find_all('td')[1].text\n",
    "                    cell10=''\n",
    "                if date_list(row[i].find_all('td')[3])!=[]:\n",
    "                    cell2=date_list(row[i].find_all('td')[3])\n",
    "                else:\n",
    "                    cell2=''\n",
    "                if check_for_star(date_list(row[i].find_all('td')[3])):\n",
    "                    cell20='* issue day'\n",
    "                else:\n",
    "                    cell20=''\n",
    "        output=[cell0,cell1,cell10,cell2,cell20]\n",
    "        output_group.append(output)\n",
    "    return pd.DataFrame(output_group,columns=['LC_Paper_No.', 'paper','url', 'meeting_date','remarks'])\n"
   ]
  },
  {
   "cell_type": "code",
   "execution_count": null,
   "metadata": {},
   "outputs": [],
   "source": []
  }
 ],
 "metadata": {
  "kernelspec": {
   "display_name": "Python 3",
   "language": "python",
   "name": "python3"
  },
  "language_info": {
   "codemirror_mode": {
    "name": "ipython",
    "version": 3
   },
   "file_extension": ".py",
   "mimetype": "text/x-python",
   "name": "python",
   "nbconvert_exporter": "python",
   "pygments_lexer": "ipython3",
   "version": "3.7.6"
  }
 },
 "nbformat": 4,
 "nbformat_minor": 4
}
